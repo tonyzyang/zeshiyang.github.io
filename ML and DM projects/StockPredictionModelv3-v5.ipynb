{
 "cells": [
  {
   "cell_type": "markdown",
   "metadata": {},
   "source": [
    "# Stock Market Price Prediction with New Data\n",
    "\n",
    "### Breif Overview:\n",
    "The model created below is for prediction the stock prices of a Company.\n",
    "\n",
    "There are two datasets\n",
    "\n",
    "1. Stock Prices Dataset for Dow Jones Inc\n",
    "\n",
    "2. Top 25 headlines for everyday for the past 8 years\n",
    "\n",
    "The notebook is briefly summarized as follows:\n",
    "\n",
    "1. Data Preparation - Preparing data for evaluation.\n",
    "\n",
    "2. Data Quality Checks - Performing basic checks on data for better understanding of data.\n",
    "\n",
    "3. Feature inspection and filtering - Correlation and feature Mutual information plots against the target variable. Inspection of the Binary, categorical and other variables.\n",
    "\n",
    "4. Feature importance ranking via learning models\n",
    "\n",
    "5. Training - training data against multiple machine learning algorthms and fine tuning a couple of algorithms for accuracy\n"
   ]
  },
  {
   "cell_type": "markdown",
   "metadata": {},
   "source": [
    "## Clients:\n",
    "\n",
    "### Listed Companies:\n",
    "\n",
    "Currently the prediction model is only for one company. But the same model can further be used to predict stock prices for any of the companies listed on Nasdaq. The companies can use the model to predict the company’s stock prices and make business decisions.\n",
    "\n",
    "Ex: Dow Jones, Apple, Google etc\n",
    "\n",
    "### Stock Brokers, Brokerage Firms and Buyers:\n",
    "\n",
    "The other set of customers would be stock brokers and buyers who would want to predict stock prices and make decisions (buy or sell) accordingly. Insights on the seasonal trends and growth can be analyzed using the model.\n",
    "\n",
    "Ex: Gardner Rich & Co, Charles Schwab, Stratton Oakmont etc"
   ]
  },
  {
   "cell_type": "markdown",
   "metadata": {},
   "source": [
    "# 1. Preprocessing \n"
   ]
  },
  {
   "cell_type": "code",
   "execution_count": 1,
   "metadata": {},
   "outputs": [],
   "source": [
    "import sklearn\n",
    "from sklearn import svm"
   ]
  },
  {
   "cell_type": "code",
   "execution_count": 4,
   "metadata": {},
   "outputs": [],
   "source": [
    "def plot_classification_report(cr, title='Classification report ', with_avg_total=False, cmap=plt.cm.Blues):\n",
    "\n",
    "    lines = cr.split('\\n')\n",
    "\n",
    "    classes = []\n",
    "    plotMat = []\n",
    "    for line in lines[2 : (len(lines) - 3)]:\n",
    "        #print(line)\n",
    "        t = line.split()\n",
    "        # print(t)\n",
    "        classes.append(t[0])\n",
    "        v = [float(x) for x in t[1: len(t) - 1]]\n",
    "        print(v)\n",
    "        plotMat.append(v)\n",
    "\n",
    "    if with_avg_total:\n",
    "        aveTotal = lines[len(lines) - 1].split()\n",
    "        classes.append('avg/total')\n",
    "        vAveTotal = [float(x) for x in t[1:len(aveTotal) - 1]]\n",
    "        plotMat.append(vAveTotal)\n",
    "\n",
    "\n",
    "    plt.imshow(plotMat, interpolation='nearest', cmap=cmap)\n",
    "    plt.title(title)\n",
    "    plt.colorbar()\n",
    "    x_tick_marks = np.arange(3)\n",
    "    y_tick_marks = np.arange(len(classes))\n",
    "    plt.xticks(x_tick_marks, ['precision', 'recall', 'f1-score'], rotation=45)\n",
    "    plt.yticks(y_tick_marks, classes)\n",
    "    plt.tight_layout()\n",
    "    plt.ylabel('Classes')\n",
    "    plt.xlabel('Measures')"
   ]
  },
  {
   "cell_type": "markdown",
   "metadata": {},
   "source": [
    "## Loading the packages that we will use in our model"
   ]
  },
  {
   "cell_type": "code",
   "execution_count": 3,
   "metadata": {},
   "outputs": [],
   "source": [
    "\n",
    "\n",
    "import pandas as pd\n",
    "import numpy as np\n",
    "import warnings\n",
    "from matplotlib import pyplot as plt\n",
    "#from pandas import read_csv, set_option\n",
    "from pandas import Series, datetime\n",
    "from pandas.tools.plotting import scatter_matrix, autocorrelation_plot\n"
   ]
  },
  {
   "cell_type": "code",
   "execution_count": 4,
   "metadata": {},
   "outputs": [
    {
     "name": "stdout",
     "output_type": "stream",
     "text": [
      "Collecting xgboost\n",
      "\u001b[?25l  Downloading https://files.pythonhosted.org/packages/4f/4c/4969b10939c4557ae46e5569d07c0c7ce772b3d6b9c1401a6ed07059fdee/xgboost-0.81.tar.gz (636kB)\n",
      "\u001b[K    100% |████████████████████████████████| 645kB 13.4MB/s \n",
      "\u001b[?25hRequirement already satisfied: numpy in /Users/zeshiyang/anaconda3/lib/python3.6/site-packages (from xgboost) (1.14.3)\n",
      "Requirement already satisfied: scipy in /Users/zeshiyang/anaconda3/lib/python3.6/site-packages (from xgboost) (1.1.0)\n",
      "Building wheels for collected packages: xgboost\n",
      "  Running setup.py bdist_wheel for xgboost ... \u001b[?25ldone\n",
      "\u001b[?25h  Stored in directory: /Users/zeshiyang/Library/Caches/pip/wheels/8a/89/0c/4870bb69132698f40889fa956f92e630a36c1fd7173fcc759f\n",
      "Successfully built xgboost\n",
      "Installing collected packages: xgboost\n",
      "Successfully installed xgboost-0.81\n",
      "\u001b[33mYou are using pip version 18.0, however version 18.1 is available.\n",
      "You should consider upgrading via the 'pip install --upgrade pip' command.\u001b[0m\n"
     ]
    }
   ],
   "source": [
    "!pip install xgboost"
   ]
  },
  {
   "cell_type": "code",
   "execution_count": 39,
   "metadata": {},
   "outputs": [
    {
     "name": "stderr",
     "output_type": "stream",
     "text": [
      "/Users/yangyu/anaconda3/lib/python3.6/site-packages/sklearn/cross_validation.py:41: DeprecationWarning:\n",
      "\n",
      "This module was deprecated in version 0.18 in favor of the model_selection module into which all the refactored classes and functions are moved. Also note that the interface of the new CV iterators are different from that of this module. This module will be removed in 0.20.\n",
      "\n",
      "/Users/yangyu/anaconda3/lib/python3.6/site-packages/sklearn/grid_search.py:42: DeprecationWarning:\n",
      "\n",
      "This module was deprecated in version 0.18 in favor of the model_selection module into which all the refactored classes and functions are moved. This module will be removed in 0.20.\n",
      "\n"
     ]
    }
   ],
   "source": [
    "from sklearn.preprocessing import StandardScaler\n",
    "from sklearn.model_selection import train_test_split, KFold, cross_val_score, GridSearchCV, TimeSeriesSplit\n",
    "from sklearn.metrics import classification_report, confusion_matrix, accuracy_score, mean_squared_error\n",
    "from sklearn.pipeline import Pipeline\n",
    "from sklearn.linear_model import LogisticRegression\n",
    "from sklearn.tree import DecisionTreeClassifier\n",
    "from sklearn.neighbors import KNeighborsClassifier\n",
    "\n",
    "from sklearn.grid_search import GridSearchCV\n",
    "from sklearn.discriminant_analysis import LinearDiscriminantAnalysis\n",
    "from sklearn.naive_bayes import GaussianNB\n",
    "from sklearn.svm import SVC\n",
    "from sklearn.model_selection import GridSearchCV\n",
    "from sklearn.ensemble import AdaBoostClassifier, GradientBoostingClassifier, RandomForestClassifier, ExtraTreesClassifier\n",
    "from sklearn.metrics import roc_curve, auc\n",
    "import matplotlib.pyplot as plt\n",
    "import random\n",
    "from statsmodels.graphics.tsaplots import plot_acf, plot_pacf\n",
    "from xgboost import XGBClassifier\n",
    "import seaborn as sns"
   ]
  },
  {
   "cell_type": "markdown",
   "metadata": {},
   "source": [
    "## Loading the datasets: news data and stock price data"
   ]
  },
  {
   "cell_type": "markdown",
   "metadata": {},
   "source": [
    "## 1. Data Preparation:\n",
    "\n",
    "Imported all the necessary modules for the project\n",
    "\n",
    "Loaded the dataset as a dataframe and parsed the date column to be read by the dataframe as dates type\n",
    "Checked the top 5 rows of the dataframe to see how the columns are aligned.\n",
    "\n",
    "\n",
    "The 'combined_stock_data.csv' initially only had the headlines(Top1 through Top25). Each row was iterated over an algorithm which generated the Subjectivity, Objectivity, Positive, Negative, Neutral sentiments of the respective headlines of each row.\n",
    "\n",
    "The algorithm was accepting only a single sentence and was providing the respective sentiments in percentage. I modified the algorithm iterate over all of the individuals rows and simultaneously create the Subjectivity, Objectivity, Negative, Positive, Neutral values and assign itself to the columns in the dataframe.\n",
    "\n",
    "The headlines Top1 through Top25 were concatenated and then passed on to the algorithm\n"
   ]
  },
  {
   "cell_type": "code",
   "execution_count": 6,
   "metadata": {},
   "outputs": [
    {
     "name": "stdout",
     "output_type": "stream",
     "text": [
      "/Users/yangyu/Downloads\n"
     ]
    }
   ],
   "source": [
    "cd .."
   ]
  },
  {
   "cell_type": "code",
   "execution_count": 7,
   "metadata": {},
   "outputs": [],
   "source": [
    "#loading the dataset\n",
    "\n",
    "news_df =pd.read_csv ('combined_stock_data.csv',parse_dates=[1])\n"
   ]
  },
  {
   "cell_type": "code",
   "execution_count": 8,
   "metadata": {},
   "outputs": [
    {
     "data": {
      "text/html": [
       "<div>\n",
       "<style scoped>\n",
       "    .dataframe tbody tr th:only-of-type {\n",
       "        vertical-align: middle;\n",
       "    }\n",
       "\n",
       "    .dataframe tbody tr th {\n",
       "        vertical-align: top;\n",
       "    }\n",
       "\n",
       "    .dataframe thead th {\n",
       "        text-align: right;\n",
       "    }\n",
       "</style>\n",
       "<table border=\"1\" class=\"dataframe\">\n",
       "  <thead>\n",
       "    <tr style=\"text-align: right;\">\n",
       "      <th></th>\n",
       "      <th>Unnamed: 0</th>\n",
       "      <th>Date</th>\n",
       "      <th>Label</th>\n",
       "      <th>Top1</th>\n",
       "      <th>Top2</th>\n",
       "      <th>Top3</th>\n",
       "      <th>Top4</th>\n",
       "      <th>Top5</th>\n",
       "      <th>Top6</th>\n",
       "      <th>Top7</th>\n",
       "      <th>...</th>\n",
       "      <th>Top22</th>\n",
       "      <th>Top23</th>\n",
       "      <th>Top24</th>\n",
       "      <th>Top25</th>\n",
       "      <th>Para</th>\n",
       "      <th>Subjectivity</th>\n",
       "      <th>Objectivity</th>\n",
       "      <th>Positive</th>\n",
       "      <th>Neutral</th>\n",
       "      <th>Negative</th>\n",
       "    </tr>\n",
       "  </thead>\n",
       "  <tbody>\n",
       "    <tr>\n",
       "      <th>0</th>\n",
       "      <td>0</td>\n",
       "      <td>2008-08-08</td>\n",
       "      <td>0</td>\n",
       "      <td>b\"Georgia 'downs two Russian warplanes' as cou...</td>\n",
       "      <td>b'BREAKING: Musharraf to be impeached.'</td>\n",
       "      <td>b'Russia Today: Columns of troops roll into So...</td>\n",
       "      <td>b'Russian tanks are moving towards the capital...</td>\n",
       "      <td>b\"Afghan children raped with 'impunity,' U.N. ...</td>\n",
       "      <td>b'150 Russian tanks have entered South Ossetia...</td>\n",
       "      <td>b\"Breaking: Georgia invades South Ossetia, Rus...</td>\n",
       "      <td>...</td>\n",
       "      <td>b'Caucasus in crisis: Georgia invades South Os...</td>\n",
       "      <td>b'Indian shoe manufactory  - And again in a se...</td>\n",
       "      <td>b'Visitors Suffering from Mental Illnesses Ban...</td>\n",
       "      <td>b\"No Help for Mexico's Kidnapping Surge\"</td>\n",
       "      <td>b\"Georgia 'downs two Russian warplanes' as cou...</td>\n",
       "      <td>75.000000</td>\n",
       "      <td>25.000000</td>\n",
       "      <td>18.750000</td>\n",
       "      <td>25.000000</td>\n",
       "      <td>56.250000</td>\n",
       "    </tr>\n",
       "    <tr>\n",
       "      <th>1</th>\n",
       "      <td>1</td>\n",
       "      <td>2008-08-11</td>\n",
       "      <td>1</td>\n",
       "      <td>b'Why wont America and Nato help us? If they w...</td>\n",
       "      <td>b'Bush puts foot down on Georgian conflict'</td>\n",
       "      <td>b\"Jewish Georgian minister: Thanks to Israeli ...</td>\n",
       "      <td>b'Georgian army flees in disarray as Russians ...</td>\n",
       "      <td>b\"Olympic opening ceremony fireworks 'faked'\"</td>\n",
       "      <td>b'What were the Mossad with fraudulent New Zea...</td>\n",
       "      <td>b'Russia angered by Israeli military sale to G...</td>\n",
       "      <td>...</td>\n",
       "      <td>b' Russia has just beaten the United States ov...</td>\n",
       "      <td>b'Perhaps *the* question about the Georgia - R...</td>\n",
       "      <td>b'Russia is so much better at war'</td>\n",
       "      <td>b\"So this is what it's come to: trading sex fo...</td>\n",
       "      <td>b'Why wont America and Nato help us? If they w...</td>\n",
       "      <td>83.333333</td>\n",
       "      <td>16.666667</td>\n",
       "      <td>41.666667</td>\n",
       "      <td>16.666667</td>\n",
       "      <td>41.666667</td>\n",
       "    </tr>\n",
       "    <tr>\n",
       "      <th>2</th>\n",
       "      <td>2</td>\n",
       "      <td>2008-08-12</td>\n",
       "      <td>0</td>\n",
       "      <td>b'Remember that adorable 9-year-old who sang a...</td>\n",
       "      <td>b\"Russia 'ends Georgia operation'\"</td>\n",
       "      <td>b'\"If we had no sexual harassment we would hav...</td>\n",
       "      <td>b\"Al-Qa'eda is losing support in Iraq because ...</td>\n",
       "      <td>b'Ceasefire in Georgia: Putin Outmaneuvers the...</td>\n",
       "      <td>b'Why Microsoft and Intel tried to kill the XO...</td>\n",
       "      <td>b'Stratfor: The Russo-Georgian War and the Bal...</td>\n",
       "      <td>...</td>\n",
       "      <td>b'All signs point to the US encouraging Georgi...</td>\n",
       "      <td>b'Christopher King argues that the US and NATO...</td>\n",
       "      <td>b'America: The New Mexico?'</td>\n",
       "      <td>b\"BBC NEWS | Asia-Pacific | Extinction 'by man...</td>\n",
       "      <td>b'Remember that adorable 9-year-old who sang a...</td>\n",
       "      <td>56.250000</td>\n",
       "      <td>43.750000</td>\n",
       "      <td>18.750000</td>\n",
       "      <td>43.750000</td>\n",
       "      <td>37.500000</td>\n",
       "    </tr>\n",
       "    <tr>\n",
       "      <th>3</th>\n",
       "      <td>3</td>\n",
       "      <td>2008-08-13</td>\n",
       "      <td>0</td>\n",
       "      <td>b' U.S. refuses Israel weapons to attack Iran:...</td>\n",
       "      <td>b\"When the president ordered to attack Tskhinv...</td>\n",
       "      <td>b' Israel clears troops who killed Reuters cam...</td>\n",
       "      <td>b'Britain\\'s policy of being tough on drugs is...</td>\n",
       "      <td>b'Body of 14 year old found in trunk; Latest (...</td>\n",
       "      <td>b'China has moved 10 *million* quake survivors...</td>\n",
       "      <td>b\"Bush announces Operation Get All Up In Russi...</td>\n",
       "      <td>...</td>\n",
       "      <td>b'Witness: Russian forces head towards Tbilisi...</td>\n",
       "      <td>b' Quarter of Russians blame U.S. for conflict...</td>\n",
       "      <td>b'Georgian president  says US military will ta...</td>\n",
       "      <td>b'2006: Nobel laureate Aleksander Solzhenitsyn...</td>\n",
       "      <td>b' U.S. refuses Israel weapons to attack Iran:...</td>\n",
       "      <td>38.461538</td>\n",
       "      <td>61.538462</td>\n",
       "      <td>15.384615</td>\n",
       "      <td>61.538462</td>\n",
       "      <td>23.076923</td>\n",
       "    </tr>\n",
       "    <tr>\n",
       "      <th>4</th>\n",
       "      <td>4</td>\n",
       "      <td>2008-08-14</td>\n",
       "      <td>1</td>\n",
       "      <td>b'All the experts admit that we should legalis...</td>\n",
       "      <td>b'War in South Osetia - 89 pictures made by a ...</td>\n",
       "      <td>b'Swedish wrestler Ara Abrahamian throws away ...</td>\n",
       "      <td>b'Russia exaggerated the death toll in South O...</td>\n",
       "      <td>b'Missile That Killed 9 Inside Pakistan May Ha...</td>\n",
       "      <td>b\"Rushdie Condemns Random House's Refusal to P...</td>\n",
       "      <td>b'Poland and US agree to missle defense deal. ...</td>\n",
       "      <td>...</td>\n",
       "      <td>b'Taliban wages war on humanitarian aid workers'</td>\n",
       "      <td>b'Russia: World  \"can forget about\" Georgia\\'s...</td>\n",
       "      <td>b'Darfur rebels accuse Sudan of mounting major...</td>\n",
       "      <td>b'Philippines : Peace Advocate say Muslims nee...</td>\n",
       "      <td>b'All the experts admit that we should legalis...</td>\n",
       "      <td>45.454545</td>\n",
       "      <td>54.545455</td>\n",
       "      <td>36.363636</td>\n",
       "      <td>54.545455</td>\n",
       "      <td>9.090909</td>\n",
       "    </tr>\n",
       "  </tbody>\n",
       "</table>\n",
       "<p>5 rows × 34 columns</p>\n",
       "</div>"
      ],
      "text/plain": [
       "   Unnamed: 0       Date  Label  \\\n",
       "0           0 2008-08-08      0   \n",
       "1           1 2008-08-11      1   \n",
       "2           2 2008-08-12      0   \n",
       "3           3 2008-08-13      0   \n",
       "4           4 2008-08-14      1   \n",
       "\n",
       "                                                Top1  \\\n",
       "0  b\"Georgia 'downs two Russian warplanes' as cou...   \n",
       "1  b'Why wont America and Nato help us? If they w...   \n",
       "2  b'Remember that adorable 9-year-old who sang a...   \n",
       "3  b' U.S. refuses Israel weapons to attack Iran:...   \n",
       "4  b'All the experts admit that we should legalis...   \n",
       "\n",
       "                                                Top2  \\\n",
       "0            b'BREAKING: Musharraf to be impeached.'   \n",
       "1        b'Bush puts foot down on Georgian conflict'   \n",
       "2                 b\"Russia 'ends Georgia operation'\"   \n",
       "3  b\"When the president ordered to attack Tskhinv...   \n",
       "4  b'War in South Osetia - 89 pictures made by a ...   \n",
       "\n",
       "                                                Top3  \\\n",
       "0  b'Russia Today: Columns of troops roll into So...   \n",
       "1  b\"Jewish Georgian minister: Thanks to Israeli ...   \n",
       "2  b'\"If we had no sexual harassment we would hav...   \n",
       "3  b' Israel clears troops who killed Reuters cam...   \n",
       "4  b'Swedish wrestler Ara Abrahamian throws away ...   \n",
       "\n",
       "                                                Top4  \\\n",
       "0  b'Russian tanks are moving towards the capital...   \n",
       "1  b'Georgian army flees in disarray as Russians ...   \n",
       "2  b\"Al-Qa'eda is losing support in Iraq because ...   \n",
       "3  b'Britain\\'s policy of being tough on drugs is...   \n",
       "4  b'Russia exaggerated the death toll in South O...   \n",
       "\n",
       "                                                Top5  \\\n",
       "0  b\"Afghan children raped with 'impunity,' U.N. ...   \n",
       "1      b\"Olympic opening ceremony fireworks 'faked'\"   \n",
       "2  b'Ceasefire in Georgia: Putin Outmaneuvers the...   \n",
       "3  b'Body of 14 year old found in trunk; Latest (...   \n",
       "4  b'Missile That Killed 9 Inside Pakistan May Ha...   \n",
       "\n",
       "                                                Top6  \\\n",
       "0  b'150 Russian tanks have entered South Ossetia...   \n",
       "1  b'What were the Mossad with fraudulent New Zea...   \n",
       "2  b'Why Microsoft and Intel tried to kill the XO...   \n",
       "3  b'China has moved 10 *million* quake survivors...   \n",
       "4  b\"Rushdie Condemns Random House's Refusal to P...   \n",
       "\n",
       "                                                Top7    ...      \\\n",
       "0  b\"Breaking: Georgia invades South Ossetia, Rus...    ...       \n",
       "1  b'Russia angered by Israeli military sale to G...    ...       \n",
       "2  b'Stratfor: The Russo-Georgian War and the Bal...    ...       \n",
       "3  b\"Bush announces Operation Get All Up In Russi...    ...       \n",
       "4  b'Poland and US agree to missle defense deal. ...    ...       \n",
       "\n",
       "                                               Top22  \\\n",
       "0  b'Caucasus in crisis: Georgia invades South Os...   \n",
       "1  b' Russia has just beaten the United States ov...   \n",
       "2  b'All signs point to the US encouraging Georgi...   \n",
       "3  b'Witness: Russian forces head towards Tbilisi...   \n",
       "4   b'Taliban wages war on humanitarian aid workers'   \n",
       "\n",
       "                                               Top23  \\\n",
       "0  b'Indian shoe manufactory  - And again in a se...   \n",
       "1  b'Perhaps *the* question about the Georgia - R...   \n",
       "2  b'Christopher King argues that the US and NATO...   \n",
       "3  b' Quarter of Russians blame U.S. for conflict...   \n",
       "4  b'Russia: World  \"can forget about\" Georgia\\'s...   \n",
       "\n",
       "                                               Top24  \\\n",
       "0  b'Visitors Suffering from Mental Illnesses Ban...   \n",
       "1                 b'Russia is so much better at war'   \n",
       "2                        b'America: The New Mexico?'   \n",
       "3  b'Georgian president  says US military will ta...   \n",
       "4  b'Darfur rebels accuse Sudan of mounting major...   \n",
       "\n",
       "                                               Top25  \\\n",
       "0           b\"No Help for Mexico's Kidnapping Surge\"   \n",
       "1  b\"So this is what it's come to: trading sex fo...   \n",
       "2  b\"BBC NEWS | Asia-Pacific | Extinction 'by man...   \n",
       "3  b'2006: Nobel laureate Aleksander Solzhenitsyn...   \n",
       "4  b'Philippines : Peace Advocate say Muslims nee...   \n",
       "\n",
       "                                                Para Subjectivity Objectivity  \\\n",
       "0  b\"Georgia 'downs two Russian warplanes' as cou...    75.000000   25.000000   \n",
       "1  b'Why wont America and Nato help us? If they w...    83.333333   16.666667   \n",
       "2  b'Remember that adorable 9-year-old who sang a...    56.250000   43.750000   \n",
       "3  b' U.S. refuses Israel weapons to attack Iran:...    38.461538   61.538462   \n",
       "4  b'All the experts admit that we should legalis...    45.454545   54.545455   \n",
       "\n",
       "    Positive    Neutral   Negative  \n",
       "0  18.750000  25.000000  56.250000  \n",
       "1  41.666667  16.666667  41.666667  \n",
       "2  18.750000  43.750000  37.500000  \n",
       "3  15.384615  61.538462  23.076923  \n",
       "4  36.363636  54.545455   9.090909  \n",
       "\n",
       "[5 rows x 34 columns]"
      ]
     },
     "execution_count": 8,
     "metadata": {},
     "output_type": "execute_result"
    }
   ],
   "source": [
    "news_df.head()"
   ]
  },
  {
   "cell_type": "markdown",
   "metadata": {},
   "source": [
    "#### Checked the datatypes of all of the columns. Below is the list of data types\n",
    "\n",
    "#### All of the data types(Top1 to Top25) below are of object type. But it doesn't matter here as we are not going to use that data, instead we are going to use the polarity data that was produced by that data."
   ]
  },
  {
   "cell_type": "code",
   "execution_count": 9,
   "metadata": {},
   "outputs": [
    {
     "data": {
      "text/plain": [
       "Unnamed: 0               int64\n",
       "Date            datetime64[ns]\n",
       "Label                    int64\n",
       "Top1                    object\n",
       "Top2                    object\n",
       "Top3                    object\n",
       "Top4                    object\n",
       "Top5                    object\n",
       "Top6                    object\n",
       "Top7                    object\n",
       "Top8                    object\n",
       "Top9                    object\n",
       "Top10                   object\n",
       "Top11                   object\n",
       "Top12                   object\n",
       "Top13                   object\n",
       "Top14                   object\n",
       "Top15                   object\n",
       "Top16                   object\n",
       "Top17                   object\n",
       "Top18                   object\n",
       "Top19                   object\n",
       "Top20                   object\n",
       "Top21                   object\n",
       "Top22                   object\n",
       "Top23                   object\n",
       "Top24                   object\n",
       "Top25                   object\n",
       "Para                    object\n",
       "Subjectivity           float64\n",
       "Objectivity            float64\n",
       "Positive               float64\n",
       "Neutral                float64\n",
       "Negative               float64\n",
       "dtype: object"
      ]
     },
     "execution_count": 9,
     "metadata": {},
     "output_type": "execute_result"
    }
   ],
   "source": [
    "# Check the shape and data types of the dataframe\n",
    "news_df.shape\n",
    "news_df.dtypes"
   ]
  },
  {
   "cell_type": "markdown",
   "metadata": {},
   "source": [
    "#### Load the Dow Jones dataset to a dataframe stock_data which contains 8 years of Stock Price data.\n",
    "\n",
    "#### Parse the date as a date type and check the top 5 rows of the dataframe.\n",
    "\n",
    "#### Checked the top 5 rows of the dataframe\n",
    "\n",
    "#### By doing this we get a basic sense of how the data looks like, it relationaship, variance in general."
   ]
  },
  {
   "cell_type": "code",
   "execution_count": 11,
   "metadata": {},
   "outputs": [
    {
     "data": {
      "text/html": [
       "<div>\n",
       "<style scoped>\n",
       "    .dataframe tbody tr th:only-of-type {\n",
       "        vertical-align: middle;\n",
       "    }\n",
       "\n",
       "    .dataframe tbody tr th {\n",
       "        vertical-align: top;\n",
       "    }\n",
       "\n",
       "    .dataframe thead th {\n",
       "        text-align: right;\n",
       "    }\n",
       "</style>\n",
       "<table border=\"1\" class=\"dataframe\">\n",
       "  <thead>\n",
       "    <tr style=\"text-align: right;\">\n",
       "      <th></th>\n",
       "      <th>Date</th>\n",
       "      <th>Open</th>\n",
       "      <th>High</th>\n",
       "      <th>Low</th>\n",
       "      <th>Close</th>\n",
       "      <th>Volume</th>\n",
       "      <th>Adj Close</th>\n",
       "    </tr>\n",
       "  </thead>\n",
       "  <tbody>\n",
       "    <tr>\n",
       "      <th>0</th>\n",
       "      <td>2016-07-01</td>\n",
       "      <td>17924.240234</td>\n",
       "      <td>18002.380859</td>\n",
       "      <td>17916.910156</td>\n",
       "      <td>17949.369141</td>\n",
       "      <td>82160000</td>\n",
       "      <td>17949.369141</td>\n",
       "    </tr>\n",
       "    <tr>\n",
       "      <th>1</th>\n",
       "      <td>2016-06-30</td>\n",
       "      <td>17712.759766</td>\n",
       "      <td>17930.609375</td>\n",
       "      <td>17711.800781</td>\n",
       "      <td>17929.990234</td>\n",
       "      <td>133030000</td>\n",
       "      <td>17929.990234</td>\n",
       "    </tr>\n",
       "    <tr>\n",
       "      <th>2</th>\n",
       "      <td>2016-06-29</td>\n",
       "      <td>17456.019531</td>\n",
       "      <td>17704.509766</td>\n",
       "      <td>17456.019531</td>\n",
       "      <td>17694.679688</td>\n",
       "      <td>106380000</td>\n",
       "      <td>17694.679688</td>\n",
       "    </tr>\n",
       "    <tr>\n",
       "      <th>3</th>\n",
       "      <td>2016-06-28</td>\n",
       "      <td>17190.509766</td>\n",
       "      <td>17409.720703</td>\n",
       "      <td>17190.509766</td>\n",
       "      <td>17409.720703</td>\n",
       "      <td>112190000</td>\n",
       "      <td>17409.720703</td>\n",
       "    </tr>\n",
       "    <tr>\n",
       "      <th>4</th>\n",
       "      <td>2016-06-27</td>\n",
       "      <td>17355.210938</td>\n",
       "      <td>17355.210938</td>\n",
       "      <td>17063.080078</td>\n",
       "      <td>17140.240234</td>\n",
       "      <td>138740000</td>\n",
       "      <td>17140.240234</td>\n",
       "    </tr>\n",
       "  </tbody>\n",
       "</table>\n",
       "</div>"
      ],
      "text/plain": [
       "        Date          Open          High           Low         Close  \\\n",
       "0 2016-07-01  17924.240234  18002.380859  17916.910156  17949.369141   \n",
       "1 2016-06-30  17712.759766  17930.609375  17711.800781  17929.990234   \n",
       "2 2016-06-29  17456.019531  17704.509766  17456.019531  17694.679688   \n",
       "3 2016-06-28  17190.509766  17409.720703  17190.509766  17409.720703   \n",
       "4 2016-06-27  17355.210938  17355.210938  17063.080078  17140.240234   \n",
       "\n",
       "      Volume     Adj Close  \n",
       "0   82160000  17949.369141  \n",
       "1  133030000  17929.990234  \n",
       "2  106380000  17694.679688  \n",
       "3  112190000  17409.720703  \n",
       "4  138740000  17140.240234  "
      ]
     },
     "execution_count": 11,
     "metadata": {},
     "output_type": "execute_result"
    }
   ],
   "source": [
    "# Load the stock prices dataset into a dataframe and check the top 5 rows\n",
    "\n",
    "stock_df = pd.read_csv(\"DJIA_table.csv\", parse_dates=[0])\n",
    "stock_df.head()"
   ]
  },
  {
   "cell_type": "markdown",
   "metadata": {},
   "source": [
    "#### Checked the shape and datatypes of the loaded dataset\n",
    "\n",
    "#### It looks like we have one of the columns that has is of type int.\n",
    "\n",
    "#### Lets change the data type of the column of type int to type float, this is to maintain uniformity accross columns when performing arithmatic operations"
   ]
  },
  {
   "cell_type": "code",
   "execution_count": 12,
   "metadata": {},
   "outputs": [
    {
     "data": {
      "text/plain": [
       "Date         datetime64[ns]\n",
       "Open                float64\n",
       "High                float64\n",
       "Low                 float64\n",
       "Close               float64\n",
       "Volume                int64\n",
       "Adj Close           float64\n",
       "dtype: object"
      ]
     },
     "execution_count": 12,
     "metadata": {},
     "output_type": "execute_result"
    }
   ],
   "source": [
    "# Check the shape and datatypes of the stock prices dataframe\n",
    "stock_df.shape\n",
    "stock_df.dtypes"
   ]
  },
  {
   "cell_type": "markdown",
   "metadata": {},
   "source": [
    "## Combine the News data and stock price data together"
   ]
  },
  {
   "cell_type": "markdown",
   "metadata": {},
   "source": [
    "#### Merged the 5 columns(Subjectivity, Objectivity, Positive, Negative, Neutral) with the stock_data dataframe.\n",
    "\n",
    "#### Validated the merged dataframe to see the 2 dataframes are concatenated by checking the top 5 rows of the merged_dataframe.\n",
    "\n",
    "#### Lets take a look at the head of the newly merged data set, again just to get a basic sense of how the data could be correlated, the range of the data and also to see if the operation(merging dataset) we performed is fine."
   ]
  },
  {
   "cell_type": "code",
   "execution_count": 13,
   "metadata": {},
   "outputs": [
    {
     "data": {
      "text/html": [
       "<div>\n",
       "<style scoped>\n",
       "    .dataframe tbody tr th:only-of-type {\n",
       "        vertical-align: middle;\n",
       "    }\n",
       "\n",
       "    .dataframe tbody tr th {\n",
       "        vertical-align: top;\n",
       "    }\n",
       "\n",
       "    .dataframe thead th {\n",
       "        text-align: right;\n",
       "    }\n",
       "</style>\n",
       "<table border=\"1\" class=\"dataframe\">\n",
       "  <thead>\n",
       "    <tr style=\"text-align: right;\">\n",
       "      <th></th>\n",
       "      <th>Date</th>\n",
       "      <th>Label</th>\n",
       "      <th>Subjectivity</th>\n",
       "      <th>Objectivity</th>\n",
       "      <th>Positive</th>\n",
       "      <th>Negative</th>\n",
       "      <th>Neutral</th>\n",
       "      <th>Open</th>\n",
       "      <th>High</th>\n",
       "      <th>Low</th>\n",
       "      <th>Close</th>\n",
       "      <th>Volume</th>\n",
       "      <th>Adj Close</th>\n",
       "    </tr>\n",
       "  </thead>\n",
       "  <tbody>\n",
       "    <tr>\n",
       "      <th>1988</th>\n",
       "      <td>2008-08-08</td>\n",
       "      <td>0</td>\n",
       "      <td>75.000000</td>\n",
       "      <td>25.000000</td>\n",
       "      <td>18.750000</td>\n",
       "      <td>56.250000</td>\n",
       "      <td>25.000000</td>\n",
       "      <td>11432.089844</td>\n",
       "      <td>11759.959961</td>\n",
       "      <td>11388.040039</td>\n",
       "      <td>11734.320312</td>\n",
       "      <td>212830000</td>\n",
       "      <td>11734.320312</td>\n",
       "    </tr>\n",
       "    <tr>\n",
       "      <th>1987</th>\n",
       "      <td>2008-08-11</td>\n",
       "      <td>1</td>\n",
       "      <td>83.333333</td>\n",
       "      <td>16.666667</td>\n",
       "      <td>41.666667</td>\n",
       "      <td>41.666667</td>\n",
       "      <td>16.666667</td>\n",
       "      <td>11729.669922</td>\n",
       "      <td>11867.110352</td>\n",
       "      <td>11675.530273</td>\n",
       "      <td>11782.349609</td>\n",
       "      <td>183190000</td>\n",
       "      <td>11782.349609</td>\n",
       "    </tr>\n",
       "    <tr>\n",
       "      <th>1986</th>\n",
       "      <td>2008-08-12</td>\n",
       "      <td>0</td>\n",
       "      <td>56.250000</td>\n",
       "      <td>43.750000</td>\n",
       "      <td>18.750000</td>\n",
       "      <td>37.500000</td>\n",
       "      <td>43.750000</td>\n",
       "      <td>11781.700195</td>\n",
       "      <td>11782.349609</td>\n",
       "      <td>11601.519531</td>\n",
       "      <td>11642.469727</td>\n",
       "      <td>173590000</td>\n",
       "      <td>11642.469727</td>\n",
       "    </tr>\n",
       "    <tr>\n",
       "      <th>1985</th>\n",
       "      <td>2008-08-13</td>\n",
       "      <td>0</td>\n",
       "      <td>38.461538</td>\n",
       "      <td>61.538462</td>\n",
       "      <td>15.384615</td>\n",
       "      <td>23.076923</td>\n",
       "      <td>61.538462</td>\n",
       "      <td>11632.809570</td>\n",
       "      <td>11633.780273</td>\n",
       "      <td>11453.339844</td>\n",
       "      <td>11532.959961</td>\n",
       "      <td>182550000</td>\n",
       "      <td>11532.959961</td>\n",
       "    </tr>\n",
       "    <tr>\n",
       "      <th>1984</th>\n",
       "      <td>2008-08-14</td>\n",
       "      <td>1</td>\n",
       "      <td>45.454545</td>\n",
       "      <td>54.545455</td>\n",
       "      <td>36.363636</td>\n",
       "      <td>9.090909</td>\n",
       "      <td>54.545455</td>\n",
       "      <td>11532.070312</td>\n",
       "      <td>11718.280273</td>\n",
       "      <td>11450.889648</td>\n",
       "      <td>11615.929688</td>\n",
       "      <td>159790000</td>\n",
       "      <td>11615.929688</td>\n",
       "    </tr>\n",
       "  </tbody>\n",
       "</table>\n",
       "</div>"
      ],
      "text/plain": [
       "           Date  Label  Subjectivity  Objectivity   Positive   Negative  \\\n",
       "1988 2008-08-08      0     75.000000    25.000000  18.750000  56.250000   \n",
       "1987 2008-08-11      1     83.333333    16.666667  41.666667  41.666667   \n",
       "1986 2008-08-12      0     56.250000    43.750000  18.750000  37.500000   \n",
       "1985 2008-08-13      0     38.461538    61.538462  15.384615  23.076923   \n",
       "1984 2008-08-14      1     45.454545    54.545455  36.363636   9.090909   \n",
       "\n",
       "        Neutral          Open          High           Low         Close  \\\n",
       "1988  25.000000  11432.089844  11759.959961  11388.040039  11734.320312   \n",
       "1987  16.666667  11729.669922  11867.110352  11675.530273  11782.349609   \n",
       "1986  43.750000  11781.700195  11782.349609  11601.519531  11642.469727   \n",
       "1985  61.538462  11632.809570  11633.780273  11453.339844  11532.959961   \n",
       "1984  54.545455  11532.070312  11718.280273  11450.889648  11615.929688   \n",
       "\n",
       "         Volume     Adj Close  \n",
       "1988  212830000  11734.320312  \n",
       "1987  183190000  11782.349609  \n",
       "1986  173590000  11642.469727  \n",
       "1985  182550000  11532.959961  \n",
       "1984  159790000  11615.929688  "
      ]
     },
     "execution_count": 13,
     "metadata": {},
     "output_type": "execute_result"
    }
   ],
   "source": [
    "# Create a dataframe by merging the headlines and the stock prices dataframe\n",
    "merge_df = news_df[['Date', 'Label', 'Subjectivity', 'Objectivity', 'Positive', 'Negative', 'Neutral']].merge(stock_df, how='inner', on='Date', left_index=True)\n",
    "# Check the shape and top 5 rows of the merged dataframe\n",
    "merge_df.shape\n",
    "merge_df.head()"
   ]
  },
  {
   "cell_type": "markdown",
   "metadata": {},
   "source": [
    "#### We have the Label(i.e the output column) column in the 2nd position.\n",
    "\n",
    "#### Lets move it to the end of the dataframe to have a clear view of inputs and outputs"
   ]
  },
  {
   "cell_type": "code",
   "execution_count": 16,
   "metadata": {},
   "outputs": [
    {
     "data": {
      "text/html": [
       "<div>\n",
       "<style scoped>\n",
       "    .dataframe tbody tr th:only-of-type {\n",
       "        vertical-align: middle;\n",
       "    }\n",
       "\n",
       "    .dataframe tbody tr th {\n",
       "        vertical-align: top;\n",
       "    }\n",
       "\n",
       "    .dataframe thead th {\n",
       "        text-align: right;\n",
       "    }\n",
       "</style>\n",
       "<table border=\"1\" class=\"dataframe\">\n",
       "  <thead>\n",
       "    <tr style=\"text-align: right;\">\n",
       "      <th></th>\n",
       "      <th>Date</th>\n",
       "      <th>Subjectivity</th>\n",
       "      <th>Objectivity</th>\n",
       "      <th>Positive</th>\n",
       "      <th>Negative</th>\n",
       "      <th>Neutral</th>\n",
       "      <th>Open</th>\n",
       "      <th>High</th>\n",
       "      <th>Low</th>\n",
       "      <th>Close</th>\n",
       "      <th>Volume</th>\n",
       "      <th>Adj Close</th>\n",
       "      <th>Label</th>\n",
       "    </tr>\n",
       "  </thead>\n",
       "  <tbody>\n",
       "    <tr>\n",
       "      <th>1988</th>\n",
       "      <td>2008-08-08</td>\n",
       "      <td>75.000000</td>\n",
       "      <td>25.000000</td>\n",
       "      <td>18.750000</td>\n",
       "      <td>56.250000</td>\n",
       "      <td>25.000000</td>\n",
       "      <td>11432.089844</td>\n",
       "      <td>11759.959961</td>\n",
       "      <td>11388.040039</td>\n",
       "      <td>11734.320312</td>\n",
       "      <td>212830000</td>\n",
       "      <td>11734.320312</td>\n",
       "      <td>0</td>\n",
       "    </tr>\n",
       "    <tr>\n",
       "      <th>1987</th>\n",
       "      <td>2008-08-11</td>\n",
       "      <td>83.333333</td>\n",
       "      <td>16.666667</td>\n",
       "      <td>41.666667</td>\n",
       "      <td>41.666667</td>\n",
       "      <td>16.666667</td>\n",
       "      <td>11729.669922</td>\n",
       "      <td>11867.110352</td>\n",
       "      <td>11675.530273</td>\n",
       "      <td>11782.349609</td>\n",
       "      <td>183190000</td>\n",
       "      <td>11782.349609</td>\n",
       "      <td>1</td>\n",
       "    </tr>\n",
       "    <tr>\n",
       "      <th>1986</th>\n",
       "      <td>2008-08-12</td>\n",
       "      <td>56.250000</td>\n",
       "      <td>43.750000</td>\n",
       "      <td>18.750000</td>\n",
       "      <td>37.500000</td>\n",
       "      <td>43.750000</td>\n",
       "      <td>11781.700195</td>\n",
       "      <td>11782.349609</td>\n",
       "      <td>11601.519531</td>\n",
       "      <td>11642.469727</td>\n",
       "      <td>173590000</td>\n",
       "      <td>11642.469727</td>\n",
       "      <td>0</td>\n",
       "    </tr>\n",
       "    <tr>\n",
       "      <th>1985</th>\n",
       "      <td>2008-08-13</td>\n",
       "      <td>38.461538</td>\n",
       "      <td>61.538462</td>\n",
       "      <td>15.384615</td>\n",
       "      <td>23.076923</td>\n",
       "      <td>61.538462</td>\n",
       "      <td>11632.809570</td>\n",
       "      <td>11633.780273</td>\n",
       "      <td>11453.339844</td>\n",
       "      <td>11532.959961</td>\n",
       "      <td>182550000</td>\n",
       "      <td>11532.959961</td>\n",
       "      <td>0</td>\n",
       "    </tr>\n",
       "    <tr>\n",
       "      <th>1984</th>\n",
       "      <td>2008-08-14</td>\n",
       "      <td>45.454545</td>\n",
       "      <td>54.545455</td>\n",
       "      <td>36.363636</td>\n",
       "      <td>9.090909</td>\n",
       "      <td>54.545455</td>\n",
       "      <td>11532.070312</td>\n",
       "      <td>11718.280273</td>\n",
       "      <td>11450.889648</td>\n",
       "      <td>11615.929688</td>\n",
       "      <td>159790000</td>\n",
       "      <td>11615.929688</td>\n",
       "      <td>1</td>\n",
       "    </tr>\n",
       "  </tbody>\n",
       "</table>\n",
       "</div>"
      ],
      "text/plain": [
       "           Date  Subjectivity  Objectivity   Positive   Negative    Neutral  \\\n",
       "1988 2008-08-08     75.000000    25.000000  18.750000  56.250000  25.000000   \n",
       "1987 2008-08-11     83.333333    16.666667  41.666667  41.666667  16.666667   \n",
       "1986 2008-08-12     56.250000    43.750000  18.750000  37.500000  43.750000   \n",
       "1985 2008-08-13     38.461538    61.538462  15.384615  23.076923  61.538462   \n",
       "1984 2008-08-14     45.454545    54.545455  36.363636   9.090909  54.545455   \n",
       "\n",
       "              Open          High           Low         Close     Volume  \\\n",
       "1988  11432.089844  11759.959961  11388.040039  11734.320312  212830000   \n",
       "1987  11729.669922  11867.110352  11675.530273  11782.349609  183190000   \n",
       "1986  11781.700195  11782.349609  11601.519531  11642.469727  173590000   \n",
       "1985  11632.809570  11633.780273  11453.339844  11532.959961  182550000   \n",
       "1984  11532.070312  11718.280273  11450.889648  11615.929688  159790000   \n",
       "\n",
       "         Adj Close  Label  \n",
       "1988  11734.320312      0  \n",
       "1987  11782.349609      1  \n",
       "1986  11642.469727      0  \n",
       "1985  11532.959961      0  \n",
       "1984  11615.929688      1  "
      ]
     },
     "execution_count": 16,
     "metadata": {},
     "output_type": "execute_result"
    }
   ],
   "source": [
    "# Push the Label column to the end of the dataframe\n",
    "cols = list(merge_df)\n",
    "cols\n",
    "cols.append(cols.pop(cols.index('Label')))\n",
    "merge_df = merge_df.loc[:, cols]\n",
    "merge_df.head()"
   ]
  },
  {
   "cell_type": "markdown",
   "metadata": {},
   "source": [
    "#### We have the volumn column in Integer format. Lets change it to float, same as the rest of the columns so we do not have any difficulties in making calculations at a later point.\n"
   ]
  },
  {
   "cell_type": "code",
   "execution_count": 17,
   "metadata": {},
   "outputs": [
    {
     "name": "stdout",
     "output_type": "stream",
     "text": [
      "['Date', 'Subjectivity', 'Objectivity', 'Positive', 'Negative', 'Neutral', 'Open', 'High', 'Low', 'Close', 'Volume', 'Adj Close', 'Label']\n"
     ]
    },
    {
     "data": {
      "text/html": [
       "<div>\n",
       "<style scoped>\n",
       "    .dataframe tbody tr th:only-of-type {\n",
       "        vertical-align: middle;\n",
       "    }\n",
       "\n",
       "    .dataframe tbody tr th {\n",
       "        vertical-align: top;\n",
       "    }\n",
       "\n",
       "    .dataframe thead th {\n",
       "        text-align: right;\n",
       "    }\n",
       "</style>\n",
       "<table border=\"1\" class=\"dataframe\">\n",
       "  <thead>\n",
       "    <tr style=\"text-align: right;\">\n",
       "      <th></th>\n",
       "      <th>Date</th>\n",
       "      <th>Subjectivity</th>\n",
       "      <th>Objectivity</th>\n",
       "      <th>Positive</th>\n",
       "      <th>Negative</th>\n",
       "      <th>Neutral</th>\n",
       "      <th>Open</th>\n",
       "      <th>High</th>\n",
       "      <th>Low</th>\n",
       "      <th>Close</th>\n",
       "      <th>Volume</th>\n",
       "      <th>Adj Close</th>\n",
       "      <th>Label</th>\n",
       "    </tr>\n",
       "  </thead>\n",
       "  <tbody>\n",
       "    <tr>\n",
       "      <th>0</th>\n",
       "      <td>2008-08-08</td>\n",
       "      <td>75.000000</td>\n",
       "      <td>25.000000</td>\n",
       "      <td>18.750000</td>\n",
       "      <td>56.250000</td>\n",
       "      <td>25.000000</td>\n",
       "      <td>11432.089844</td>\n",
       "      <td>11759.959961</td>\n",
       "      <td>11388.040039</td>\n",
       "      <td>11734.320312</td>\n",
       "      <td>212830000.0</td>\n",
       "      <td>11734.320312</td>\n",
       "      <td>0</td>\n",
       "    </tr>\n",
       "    <tr>\n",
       "      <th>1</th>\n",
       "      <td>2008-08-11</td>\n",
       "      <td>83.333333</td>\n",
       "      <td>16.666667</td>\n",
       "      <td>41.666667</td>\n",
       "      <td>41.666667</td>\n",
       "      <td>16.666667</td>\n",
       "      <td>11729.669922</td>\n",
       "      <td>11867.110352</td>\n",
       "      <td>11675.530273</td>\n",
       "      <td>11782.349609</td>\n",
       "      <td>183190000.0</td>\n",
       "      <td>11782.349609</td>\n",
       "      <td>1</td>\n",
       "    </tr>\n",
       "    <tr>\n",
       "      <th>2</th>\n",
       "      <td>2008-08-12</td>\n",
       "      <td>56.250000</td>\n",
       "      <td>43.750000</td>\n",
       "      <td>18.750000</td>\n",
       "      <td>37.500000</td>\n",
       "      <td>43.750000</td>\n",
       "      <td>11781.700195</td>\n",
       "      <td>11782.349609</td>\n",
       "      <td>11601.519531</td>\n",
       "      <td>11642.469727</td>\n",
       "      <td>173590000.0</td>\n",
       "      <td>11642.469727</td>\n",
       "      <td>0</td>\n",
       "    </tr>\n",
       "    <tr>\n",
       "      <th>3</th>\n",
       "      <td>2008-08-13</td>\n",
       "      <td>38.461538</td>\n",
       "      <td>61.538462</td>\n",
       "      <td>15.384615</td>\n",
       "      <td>23.076923</td>\n",
       "      <td>61.538462</td>\n",
       "      <td>11632.809570</td>\n",
       "      <td>11633.780273</td>\n",
       "      <td>11453.339844</td>\n",
       "      <td>11532.959961</td>\n",
       "      <td>182550000.0</td>\n",
       "      <td>11532.959961</td>\n",
       "      <td>0</td>\n",
       "    </tr>\n",
       "    <tr>\n",
       "      <th>4</th>\n",
       "      <td>2008-08-14</td>\n",
       "      <td>45.454545</td>\n",
       "      <td>54.545455</td>\n",
       "      <td>36.363636</td>\n",
       "      <td>9.090909</td>\n",
       "      <td>54.545455</td>\n",
       "      <td>11532.070312</td>\n",
       "      <td>11718.280273</td>\n",
       "      <td>11450.889648</td>\n",
       "      <td>11615.929688</td>\n",
       "      <td>159790000.0</td>\n",
       "      <td>11615.929688</td>\n",
       "      <td>1</td>\n",
       "    </tr>\n",
       "  </tbody>\n",
       "</table>\n",
       "</div>"
      ],
      "text/plain": [
       "        Date  Subjectivity  Objectivity   Positive   Negative    Neutral  \\\n",
       "0 2008-08-08     75.000000    25.000000  18.750000  56.250000  25.000000   \n",
       "1 2008-08-11     83.333333    16.666667  41.666667  41.666667  16.666667   \n",
       "2 2008-08-12     56.250000    43.750000  18.750000  37.500000  43.750000   \n",
       "3 2008-08-13     38.461538    61.538462  15.384615  23.076923  61.538462   \n",
       "4 2008-08-14     45.454545    54.545455  36.363636   9.090909  54.545455   \n",
       "\n",
       "           Open          High           Low         Close       Volume  \\\n",
       "0  11432.089844  11759.959961  11388.040039  11734.320312  212830000.0   \n",
       "1  11729.669922  11867.110352  11675.530273  11782.349609  183190000.0   \n",
       "2  11781.700195  11782.349609  11601.519531  11642.469727  173590000.0   \n",
       "3  11632.809570  11633.780273  11453.339844  11532.959961  182550000.0   \n",
       "4  11532.070312  11718.280273  11450.889648  11615.929688  159790000.0   \n",
       "\n",
       "      Adj Close  Label  \n",
       "0  11734.320312      0  \n",
       "1  11782.349609      1  \n",
       "2  11642.469727      0  \n",
       "3  11532.959961      0  \n",
       "4  11615.929688      1  "
      ]
     },
     "execution_count": 17,
     "metadata": {},
     "output_type": "execute_result"
    }
   ],
   "source": [
    "# Change the datatype of the volume column to float\n",
    "#merged_dataframe['Date'] = pd.to_datetime(merged_dataframe['Date'])\n",
    "merge_df['Volume'] = merge_df['Volume'].astype(float)\n",
    "print(cols)\n",
    "#merged_dataframe = merged_dataframe.set_index(['Date'])\n",
    "merge_df.index = merge_df.index.sort_values()\n",
    "merge_df.head()"
   ]
  },
  {
   "cell_type": "markdown",
   "metadata": {},
   "source": [
    "## 2. Data Quality Checks:\n",
    "\n",
    "#### Checked the statistics of individual columns in the dataframe.\n",
    "\n",
    "#### As you can see below there are no outliers in any of the columns, however, some of the columns have NaN values\n",
    "\n",
    "#### The NaN values are mostly dummy variables and it is important for those to be replaced. The NaN values could cause the classifier to predict incorrectly. It can be observed from the below data that there are about 3 NaN values in each of the Polaity columns data i.e (Subjectivity, Objectivity, Positive, Negative, Neutral).\n",
    "\n",
    "#### We will replace the NaN in the cells below. Since we have only 3 NaN values, its impact on the data is going to be relatively less. So, in this case I am going to just replace the NaN's with the Mean value of the respective column as that would be the most appropriate decision in this case."
   ]
  },
  {
   "cell_type": "code",
   "execution_count": 18,
   "metadata": {},
   "outputs": [
    {
     "data": {
      "text/html": [
       "<div>\n",
       "<style scoped>\n",
       "    .dataframe tbody tr th:only-of-type {\n",
       "        vertical-align: middle;\n",
       "    }\n",
       "\n",
       "    .dataframe tbody tr th {\n",
       "        vertical-align: top;\n",
       "    }\n",
       "\n",
       "    .dataframe thead th {\n",
       "        text-align: right;\n",
       "    }\n",
       "</style>\n",
       "<table border=\"1\" class=\"dataframe\">\n",
       "  <thead>\n",
       "    <tr style=\"text-align: right;\">\n",
       "      <th></th>\n",
       "      <th>Subjectivity</th>\n",
       "      <th>Objectivity</th>\n",
       "      <th>Positive</th>\n",
       "      <th>Negative</th>\n",
       "      <th>Neutral</th>\n",
       "      <th>Open</th>\n",
       "      <th>High</th>\n",
       "      <th>Low</th>\n",
       "      <th>Close</th>\n",
       "      <th>Volume</th>\n",
       "      <th>Adj Close</th>\n",
       "      <th>Label</th>\n",
       "    </tr>\n",
       "  </thead>\n",
       "  <tbody>\n",
       "    <tr>\n",
       "      <th>count</th>\n",
       "      <td>1986.000000</td>\n",
       "      <td>1986.000000</td>\n",
       "      <td>1986.000000</td>\n",
       "      <td>1986.000000</td>\n",
       "      <td>1986.000000</td>\n",
       "      <td>1989.000000</td>\n",
       "      <td>1989.000000</td>\n",
       "      <td>1989.000000</td>\n",
       "      <td>1989.000000</td>\n",
       "      <td>1.989000e+03</td>\n",
       "      <td>1989.000000</td>\n",
       "      <td>1989.000000</td>\n",
       "    </tr>\n",
       "    <tr>\n",
       "      <th>mean</th>\n",
       "      <td>56.712522</td>\n",
       "      <td>43.287478</td>\n",
       "      <td>19.966718</td>\n",
       "      <td>36.745804</td>\n",
       "      <td>43.287478</td>\n",
       "      <td>13459.116048</td>\n",
       "      <td>13541.303173</td>\n",
       "      <td>13372.931728</td>\n",
       "      <td>13463.032255</td>\n",
       "      <td>1.628110e+08</td>\n",
       "      <td>13463.032255</td>\n",
       "      <td>0.535445</td>\n",
       "    </tr>\n",
       "    <tr>\n",
       "      <th>std</th>\n",
       "      <td>21.557927</td>\n",
       "      <td>21.557927</td>\n",
       "      <td>16.373424</td>\n",
       "      <td>21.109970</td>\n",
       "      <td>21.557927</td>\n",
       "      <td>3143.281634</td>\n",
       "      <td>3136.271725</td>\n",
       "      <td>3150.420934</td>\n",
       "      <td>3144.006996</td>\n",
       "      <td>9.392343e+07</td>\n",
       "      <td>3144.006996</td>\n",
       "      <td>0.498867</td>\n",
       "    </tr>\n",
       "    <tr>\n",
       "      <th>min</th>\n",
       "      <td>0.000000</td>\n",
       "      <td>0.000000</td>\n",
       "      <td>0.000000</td>\n",
       "      <td>0.000000</td>\n",
       "      <td>0.000000</td>\n",
       "      <td>6547.009766</td>\n",
       "      <td>6709.609863</td>\n",
       "      <td>6469.950195</td>\n",
       "      <td>6547.049805</td>\n",
       "      <td>8.410000e+06</td>\n",
       "      <td>6547.049805</td>\n",
       "      <td>0.000000</td>\n",
       "    </tr>\n",
       "    <tr>\n",
       "      <th>25%</th>\n",
       "      <td>40.000000</td>\n",
       "      <td>28.571429</td>\n",
       "      <td>8.333333</td>\n",
       "      <td>21.859903</td>\n",
       "      <td>28.571429</td>\n",
       "      <td>10907.339844</td>\n",
       "      <td>11000.980469</td>\n",
       "      <td>10824.759766</td>\n",
       "      <td>10913.379883</td>\n",
       "      <td>1.000000e+08</td>\n",
       "      <td>10913.379883</td>\n",
       "      <td>0.000000</td>\n",
       "    </tr>\n",
       "    <tr>\n",
       "      <th>50%</th>\n",
       "      <td>54.545455</td>\n",
       "      <td>45.454545</td>\n",
       "      <td>18.181818</td>\n",
       "      <td>33.333333</td>\n",
       "      <td>45.454545</td>\n",
       "      <td>13022.049805</td>\n",
       "      <td>13088.110352</td>\n",
       "      <td>12953.129883</td>\n",
       "      <td>13025.580078</td>\n",
       "      <td>1.351700e+08</td>\n",
       "      <td>13025.580078</td>\n",
       "      <td>1.000000</td>\n",
       "    </tr>\n",
       "    <tr>\n",
       "      <th>75%</th>\n",
       "      <td>71.428571</td>\n",
       "      <td>60.000000</td>\n",
       "      <td>28.571429</td>\n",
       "      <td>50.000000</td>\n",
       "      <td>60.000000</td>\n",
       "      <td>16477.699219</td>\n",
       "      <td>16550.070312</td>\n",
       "      <td>16392.769531</td>\n",
       "      <td>16478.410156</td>\n",
       "      <td>1.926000e+08</td>\n",
       "      <td>16478.410156</td>\n",
       "      <td>1.000000</td>\n",
       "    </tr>\n",
       "    <tr>\n",
       "      <th>max</th>\n",
       "      <td>100.000000</td>\n",
       "      <td>100.000000</td>\n",
       "      <td>100.000000</td>\n",
       "      <td>100.000000</td>\n",
       "      <td>100.000000</td>\n",
       "      <td>18315.060547</td>\n",
       "      <td>18351.359375</td>\n",
       "      <td>18272.560547</td>\n",
       "      <td>18312.390625</td>\n",
       "      <td>6.749200e+08</td>\n",
       "      <td>18312.390625</td>\n",
       "      <td>1.000000</td>\n",
       "    </tr>\n",
       "  </tbody>\n",
       "</table>\n",
       "</div>"
      ],
      "text/plain": [
       "       Subjectivity  Objectivity     Positive     Negative      Neutral  \\\n",
       "count   1986.000000  1986.000000  1986.000000  1986.000000  1986.000000   \n",
       "mean      56.712522    43.287478    19.966718    36.745804    43.287478   \n",
       "std       21.557927    21.557927    16.373424    21.109970    21.557927   \n",
       "min        0.000000     0.000000     0.000000     0.000000     0.000000   \n",
       "25%       40.000000    28.571429     8.333333    21.859903    28.571429   \n",
       "50%       54.545455    45.454545    18.181818    33.333333    45.454545   \n",
       "75%       71.428571    60.000000    28.571429    50.000000    60.000000   \n",
       "max      100.000000   100.000000   100.000000   100.000000   100.000000   \n",
       "\n",
       "               Open          High           Low         Close        Volume  \\\n",
       "count   1989.000000   1989.000000   1989.000000   1989.000000  1.989000e+03   \n",
       "mean   13459.116048  13541.303173  13372.931728  13463.032255  1.628110e+08   \n",
       "std     3143.281634   3136.271725   3150.420934   3144.006996  9.392343e+07   \n",
       "min     6547.009766   6709.609863   6469.950195   6547.049805  8.410000e+06   \n",
       "25%    10907.339844  11000.980469  10824.759766  10913.379883  1.000000e+08   \n",
       "50%    13022.049805  13088.110352  12953.129883  13025.580078  1.351700e+08   \n",
       "75%    16477.699219  16550.070312  16392.769531  16478.410156  1.926000e+08   \n",
       "max    18315.060547  18351.359375  18272.560547  18312.390625  6.749200e+08   \n",
       "\n",
       "          Adj Close        Label  \n",
       "count   1989.000000  1989.000000  \n",
       "mean   13463.032255     0.535445  \n",
       "std     3144.006996     0.498867  \n",
       "min     6547.049805     0.000000  \n",
       "25%    10913.379883     0.000000  \n",
       "50%    13025.580078     1.000000  \n",
       "75%    16478.410156     1.000000  \n",
       "max    18312.390625     1.000000  "
      ]
     },
     "execution_count": 18,
     "metadata": {},
     "output_type": "execute_result"
    }
   ],
   "source": [
    "# Check the statistics of the columns of the merged dataframe and check for outliers\n",
    "merge_df.describe()\n"
   ]
  },
  {
   "cell_type": "markdown",
   "metadata": {},
   "source": [
    "#### Plotted histograms for individual columns to see the distribution of values.\n",
    "\n",
    "#### The x axis is the column values and the y axis is the frequency of those values.\n",
    "\n",
    "#### The plot below gives a fair idea of how the data is distributed across columns. We can see that most of the columns though not normally distributed are fairly evenly distributed across all the columns which is a good sign as we do not have to skew much with the data.\n",
    "\n",
    "#### The Label column has only 0's and 1's. The distribution of this column is most important to be checked. We can see that spread of 0's and 1's are almost equal with the 0's being a little less than the 1's. But a slight difference doesnt matter much. A higher difference will require further transformations to be performed for the data to be equally distributed.\n",
    "\n",
    "#### We need to have equal number of classifier variables because, even if one of the classifier variables are very low, the classifier will lead to bias and will find difficulty in predicting that particular variable. This will lead to the model predicting only the variable with higher distribution."
   ]
  },
  {
   "cell_type": "code",
   "execution_count": 19,
   "metadata": {},
   "outputs": [
    {
     "data": {
      "image/png": "[encoded data removed]",
      "text/plain": [
       "<Figure size 720x720 with 12 Axes>"
      ]
     },
     "metadata": {},
     "output_type": "display_data"
    }
   ],
   "source": [
    "# Plot a histogram for all the columns of the dataframe. This shows the frequency of values in all the columns\n",
    "import seaborn as sns\n",
    "sns.set()\n",
    "merge_df.hist(sharex = False, sharey = False, xlabelsize = 4, ylabelsize = 4, figsize=(10, 10))\n",
    "plt.show()"
   ]
  },
  {
   "cell_type": "markdown",
   "metadata": {},
   "source": [
    "#### Plot 1: Scatter plot of Stock Prices vs the Subjectivity.<br/>\n",
    "        Stock Value of 0 means the Stock Value reduced since the previous day.<br/>\n",
    "        Stock Value of 1 means the Stock Value increased or remained the same since the previous day.\n",
    "\n",
    "#### Plot 2: Scatter plot of Stock Prices vs the Objectivity.<br/>\n",
    "        Stock Value of 0 means the Stock Value reduced since the previous day.<br/>\n",
    "        Stock Value of 1 means the Stock Value increased or remained the same since the previous day.\n",
    "\n",
    "#### Plot 3: Histogram of Subjectivity column.<br/>\n",
    "        The x axis are the values of Subjectivity and y axis is its respective frequency.<br/>\n",
    "        The plot seems to be normally distributed.\n",
    "\n",
    "#### Plot 4: Histogram of Objectivity column.<br/>\n",
    "        The x axis are the values of Objectivity and y axis is its respective frequency.<br/>\n",
    "        The plot seems to be normally distributed.<br/>\n"
   ]
  },
  {
   "cell_type": "code",
   "execution_count": 20,
   "metadata": {},
   "outputs": [
    {
     "data": {
      "image/png": "[encoded data removed]",
      "text/plain": [
       "<Figure size 432x288 with 1 Axes>"
      ]
     },
     "metadata": {},
     "output_type": "display_data"
    },
    {
     "data": {
      "image/png": "[encoded data removed]",
      "text/plain": [
       "<Figure size 432x288 with 1 Axes>"
      ]
     },
     "metadata": {},
     "output_type": "display_data"
    },
    {
     "data": {
      "image/png": "[encoded data removed]",
      "text/plain": [
       "<Figure size 432x288 with 1 Axes>"
      ]
     },
     "metadata": {},
     "output_type": "display_data"
    },
    {
     "data": {
      "image/png": "[encoded data removed]",
      "text/plain": [
       "<Figure size 432x288 with 1 Axes>"
      ]
     },
     "metadata": {},
     "output_type": "display_data"
    },
    {
     "name": "stdout",
     "output_type": "stream",
     "text": [
      "the number of days \n",
      "Label\n",
      "0     924\n",
      "1    1065\n",
      "dtype: int64\n",
      "Size of the Labels column (%)\n",
      "2\n",
      "Label\n",
      "0    46.455505\n",
      "1    53.544495\n",
      "dtype: float64 %\n"
     ]
    }
   ],
   "source": [
    "plt.scatter(merge_df['Subjectivity'], merge_df['Label'])\n",
    "plt.xlabel('Subjectivity')\n",
    "plt.ylabel('Stock Price Up or Down 0: Down, 1: Up')\n",
    "plt.show()\n",
    "plt.scatter(merge_df['Objectivity'], merge_df['Label'])\n",
    "plt.xlabel('Objectivity')\n",
    "plt.ylabel('Stock Price Up or Down 0: Down, 1: Up')\n",
    "plt.show()\n",
    "merge_df['Subjectivity'].plot('hist')\n",
    "plt.xlabel('Subjectivity')\n",
    "plt.ylabel('Frequency')\n",
    "plt.show()\n",
    "merge_df['Objectivity'].plot('hist')\n",
    "plt.xlabel('Subjectivity')\n",
    "plt.ylabel('Frequency')\n",
    "\n",
    "\n",
    "##for i, v in enumerate(y):\n",
    "    ##ax.text(v + 3, i + .25, str(v), color='blue', fontweight='bold')\n",
    "\n",
    "plt.show()\n",
    "print(\"the number of days \")\n",
    "\n",
    "print(merge_df.groupby('Label').size())\n",
    "print(\"Size of the Labels column (%)\")\n",
    "print(len(merge_df.groupby('Label')))\n",
    "print(100*merge_df.groupby('Label').size()/len(merge_df), str(\"%\"))"
   ]
  },
  {
   "cell_type": "code",
   "execution_count": null,
   "metadata": {},
   "outputs": [],
   "source": []
  },
  {
   "cell_type": "markdown",
   "metadata": {},
   "source": [
    "## 3.Feature inspection and filtering\n",
    "\n",
    "#### Lets check for NaN values in individual columns of the dataframe.\n",
    "\n",
    "#### Visualizing the NaN's makes it easier for us to see where the NaN values are falling. Below is a plot of the NaN values. The white lines are the NaN values. In the below plot we are unable to see the NaN values because they are so less. We just have 3 NaN values in the first 4 columns each. The perpendicular bars on the last vertical lin shows exactly where the NaN values are falling.\n",
    "\n",
    "#### In this case, since the NaN values are so less, it doesn't matter much in the prediction of the model. However, it is important for the NaN values to be replaced. As discuseed earlier, we will replace the NaN values with the mean value of the respective column."
   ]
  },
  {
   "cell_type": "code",
   "execution_count": 21,
   "metadata": {},
   "outputs": [],
   "source": [
    "##md_copy = merged_dataframe\n",
    "#md_copy = md_copy.replace(-1, np.NaN)#\n",
    "#import missingno as msno\n",
    "# Nullity or missing values by columns\n",
    "#msno.matrix(df=md_copy.iloc[:,2:39], figsize=(20, 14), color=(0.42, 0.1, 0.05))#"
   ]
  },
  {
   "cell_type": "markdown",
   "metadata": {},
   "source": [
    "## Correlation Map for features:\n",
    "\n",
    "#### Now, we will plot a heat map and a scatter matrix to see the correlation of the columns with each other.\n",
    "\n",
    "#### You can see the heat map with pearson correlation values in the plot below.\n",
    "\n",
    "#### This gave me a better understanding to see if there are any dependant variables or if any of the variables are highly correlated.\n",
    "\n",
    "#### Some variables Subjectivity, Objectivity are negatively correlated. There are very few variables which seem to have a very high correlation. Thus, at this point we can conclude that we do not need any sort of dimensionality reduction technique to be applied.\n",
    "\n",
    "#### Some machine learning algorithms require the predictor variables to not be highly correlated. If the predictors are highly correlated then all of the correlated predictors are basically representing the same correlation and either one or all the variables will have the same effect on the target variable. In such a case dimensionality reduction is required. "
   ]
  },
  {
   "cell_type": "code",
   "execution_count": 24,
   "metadata": {
    "scrolled": false
   },
   "outputs": [
    {
     "data": {
      "image/png": "[encoded data removed]",
      "text/plain": [
       "<Figure size 1152x864 with 2 Axes>"
      ]
     },
     "metadata": {},
     "output_type": "display_data"
    }
   ],
   "source": [
    "from matplotlib import pyplot as plt\n",
    "colormap = plt.cm.afmhot\n",
    "plt.figure(figsize=(16,12))\n",
    "plt.title('Pearson correlation of continuous features', y=1.05, size=15)\n",
    "sns.heatmap(merge_df.corr(),linewidths=0.1,vmax=1.0, square=True, \n",
    "            cmap=colormap, linecolor='white', annot=True)\n",
    "plt.show()"
   ]
  },
  {
   "cell_type": "code",
   "execution_count": 25,
   "metadata": {},
   "outputs": [
    {
     "name": "stdout",
     "output_type": "stream",
     "text": [
      "Requirement already satisfied: plotly in /Users/yangyu/anaconda3/lib/python3.6/site-packages (3.4.1)\n",
      "Requirement already satisfied: decorator>=4.0.6 in /Users/yangyu/anaconda3/lib/python3.6/site-packages (from plotly) (4.3.0)\n",
      "Requirement already satisfied: nbformat>=4.2 in /Users/yangyu/anaconda3/lib/python3.6/site-packages (from plotly) (4.4.0)\n",
      "Requirement already satisfied: pytz in /Users/yangyu/anaconda3/lib/python3.6/site-packages (from plotly) (2018.4)\n",
      "Requirement already satisfied: requests in /Users/yangyu/anaconda3/lib/python3.6/site-packages (from plotly) (2.18.4)\n",
      "Requirement already satisfied: retrying>=1.3.3 in /Users/yangyu/anaconda3/lib/python3.6/site-packages (from plotly) (1.3.3)\n",
      "Requirement already satisfied: six in /Users/yangyu/anaconda3/lib/python3.6/site-packages (from plotly) (1.11.0)\n",
      "Requirement already satisfied: ipython_genutils in /Users/yangyu/anaconda3/lib/python3.6/site-packages (from nbformat>=4.2->plotly) (0.2.0)\n",
      "Requirement already satisfied: traitlets>=4.1 in /Users/yangyu/anaconda3/lib/python3.6/site-packages (from nbformat>=4.2->plotly) (4.3.2)\n",
      "Requirement already satisfied: jsonschema!=2.5.0,>=2.4 in /Users/yangyu/anaconda3/lib/python3.6/site-packages (from nbformat>=4.2->plotly) (2.6.0)\n",
      "Requirement already satisfied: jupyter_core in /Users/yangyu/anaconda3/lib/python3.6/site-packages (from nbformat>=4.2->plotly) (4.4.0)\n",
      "Requirement already satisfied: chardet<3.1.0,>=3.0.2 in /Users/yangyu/anaconda3/lib/python3.6/site-packages (from requests->plotly) (3.0.4)\n",
      "Requirement already satisfied: idna<2.7,>=2.5 in /Users/yangyu/anaconda3/lib/python3.6/site-packages (from requests->plotly) (2.6)\n",
      "Requirement already satisfied: urllib3<1.23,>=1.21.1 in /Users/yangyu/anaconda3/lib/python3.6/site-packages (from requests->plotly) (1.22)\n",
      "Requirement already satisfied: certifi>=2017.4.17 in /Users/yangyu/anaconda3/lib/python3.6/site-packages (from requests->plotly) (2018.10.15)\n",
      "\u001b[31mdistributed 1.21.8 requires msgpack, which is not installed.\u001b[0m\n",
      "\u001b[33mYou are using pip version 10.0.1, however version 18.1 is available.\n",
      "You should consider upgrading via the 'pip install --upgrade pip' command.\u001b[0m\n"
     ]
    },
    {
     "data": {
      "text/html": [
       "<script type=\"text/javascript\">window.PlotlyConfig = {MathJaxConfig: 'local'};</script><script type=\"text/javascript\">if (window.MathJax) {MathJax.Hub.Config({SVG: {font: \"STIX-Web\"}});}</script><script>requirejs.config({paths: { 'plotly': ['https://cdn.plot.ly/plotly-latest.min']},});if(!window._Plotly) {require(['plotly'],function(plotly) {window._Plotly=plotly;});}</script>"
      ],
      "text/vnd.plotly.v1+html": [
       "<script type=\"text/javascript\">window.PlotlyConfig = {MathJaxConfig: 'local'};</script><script type=\"text/javascript\">if (window.MathJax) {MathJax.Hub.Config({SVG: {font: \"STIX-Web\"}});}</script><script>requirejs.config({paths: { 'plotly': ['https://cdn.plot.ly/plotly-latest.min']},});if(!window._Plotly) {require(['plotly'],function(plotly) {window._Plotly=plotly;});}</script>"
      ]
     },
     "metadata": {},
     "output_type": "display_data"
    }
   ],
   "source": [
    "%matplotlib inline\n",
    "!pip install plotly\n",
    "import plotly.offline as py\n",
    "py.init_notebook_mode(connected=True)\n",
    "import plotly.graph_objs as go\n",
    "import plotly.tools as tls\n",
    "import warnings\n"
   ]
  },
  {
   "cell_type": "code",
   "execution_count": 26,
   "metadata": {},
   "outputs": [
    {
     "data": {
      "application/vnd.plotly.v1+json": {
       "data": [
        {
         "name": "Zero count",
         "type": "bar",
         "uid": "339e5fcc-01b2-45c0-a2c8-c631e2e1c482",
         "x": [
          "Date",
          "Subjectivity",
          "Objectivity",
          "Positive",
          "Negative",
          "Neutral",
          "Open",
          "High",
          "Low",
          "Close",
          "Volume",
          "Adj Close",
          "Label"
         ],
         "y": [
          924,
          924,
          924,
          924,
          924,
          924,
          924,
          924,
          924,
          924,
          924,
          924,
          924
         ]
        },
        {
         "name": "One count",
         "type": "bar",
         "uid": "49eacf35-66f3-4246-aae0-333b388344e9",
         "x": [
          "Date",
          "Subjectivity",
          "Objectivity",
          "Positive",
          "Negative",
          "Neutral",
          "Open",
          "High",
          "Low",
          "Close",
          "Volume",
          "Adj Close",
          "Label"
         ],
         "y": [
          1065,
          1065,
          1065,
          1065,
          1065,
          1065,
          1065,
          1065,
          1065,
          1065,
          1065,
          1065,
          1065
         ]
        }
       ],
       "layout": {
        "barmode": "stack",
        "title": "Count of 1 and 0 in binary variables"
       }
      },
      "text/html": [
       "<div id=\"1a9d0378-85b3-4bdb-9d55-b73f6b7aa582\" style=\"height: 525px; width: 100%;\" class=\"plotly-graph-div\"></div><script type=\"text/javascript\">require([\"plotly\"], function(Plotly) { window.PLOTLYENV=window.PLOTLYENV || {};window.PLOTLYENV.BASE_URL=\"https://plot.ly\";Plotly.newPlot(\"1a9d0378-85b3-4bdb-9d55-b73f6b7aa582\", [{\"name\": \"Zero count\", \"x\": [\"Date\", \"Subjectivity\", \"Objectivity\", \"Positive\", \"Negative\", \"Neutral\", \"Open\", \"High\", \"Low\", \"Close\", \"Volume\", \"Adj Close\", \"Label\"], \"y\": [924, 924, 924, 924, 924, 924, 924, 924, 924, 924, 924, 924, 924], \"type\": \"bar\", \"uid\": \"339e5fcc-01b2-45c0-a2c8-c631e2e1c482\"}, {\"name\": \"One count\", \"x\": [\"Date\", \"Subjectivity\", \"Objectivity\", \"Positive\", \"Negative\", \"Neutral\", \"Open\", \"High\", \"Low\", \"Close\", \"Volume\", \"Adj Close\", \"Label\"], \"y\": [1065, 1065, 1065, 1065, 1065, 1065, 1065, 1065, 1065, 1065, 1065, 1065, 1065], \"type\": \"bar\", \"uid\": \"49eacf35-66f3-4246-aae0-333b388344e9\"}], {\"barmode\": \"stack\", \"title\": \"Count of 1 and 0 in binary variables\"}, {\"showLink\": true, \"linkText\": \"Export to plot.ly\"})});</script><script type=\"text/javascript\">window.addEventListener(\"resize\", function(){window._Plotly.Plots.resize(document.getElementById(\"1a9d0378-85b3-4bdb-9d55-b73f6b7aa582\"));});</script>"
      ],
      "text/vnd.plotly.v1+html": [
       "<div id=\"1a9d0378-85b3-4bdb-9d55-b73f6b7aa582\" style=\"height: 525px; width: 100%;\" class=\"plotly-graph-div\"></div><script type=\"text/javascript\">require([\"plotly\"], function(Plotly) { window.PLOTLYENV=window.PLOTLYENV || {};window.PLOTLYENV.BASE_URL=\"https://plot.ly\";Plotly.newPlot(\"1a9d0378-85b3-4bdb-9d55-b73f6b7aa582\", [{\"name\": \"Zero count\", \"x\": [\"Date\", \"Subjectivity\", \"Objectivity\", \"Positive\", \"Negative\", \"Neutral\", \"Open\", \"High\", \"Low\", \"Close\", \"Volume\", \"Adj Close\", \"Label\"], \"y\": [924, 924, 924, 924, 924, 924, 924, 924, 924, 924, 924, 924, 924], \"type\": \"bar\", \"uid\": \"339e5fcc-01b2-45c0-a2c8-c631e2e1c482\"}, {\"name\": \"One count\", \"x\": [\"Date\", \"Subjectivity\", \"Objectivity\", \"Positive\", \"Negative\", \"Neutral\", \"Open\", \"High\", \"Low\", \"Close\", \"Volume\", \"Adj Close\", \"Label\"], \"y\": [1065, 1065, 1065, 1065, 1065, 1065, 1065, 1065, 1065, 1065, 1065, 1065, 1065], \"type\": \"bar\", \"uid\": \"49eacf35-66f3-4246-aae0-333b388344e9\"}], {\"barmode\": \"stack\", \"title\": \"Count of 1 and 0 in binary variables\"}, {\"showLink\": true, \"linkText\": \"Export to plot.ly\"})});</script><script type=\"text/javascript\">window.addEventListener(\"resize\", function(){window._Plotly.Plots.resize(document.getElementById(\"1a9d0378-85b3-4bdb-9d55-b73f6b7aa582\"));});</script>"
      ]
     },
     "metadata": {},
     "output_type": "display_data"
    }
   ],
   "source": [
    "\n",
    "bin_col = merge_df.columns\n",
    "zero_list = []\n",
    "one_list = []\n",
    "for col in bin_col:\n",
    "    zero_count = 0\n",
    "    one_count = 0\n",
    "    for ix, val in merge_df[col].iteritems():\n",
    "        if merge_df.loc[ix, 'Label'] == 0:\n",
    "            zero_count += 1\n",
    "        else:\n",
    "            one_count += 1\n",
    "    zero_list.append(zero_count)\n",
    "    one_list.append(one_count)\n",
    "    \n",
    "trace1 = go.Bar(\n",
    "    x=bin_col,\n",
    "    y=zero_list ,\n",
    "    name='Zero count'\n",
    ")\n",
    "trace2 = go.Bar(\n",
    "    x=bin_col,\n",
    "    y=one_list,\n",
    "    name='One count'\n",
    ")\n",
    "\n",
    "data = [trace1, trace2]\n",
    "layout = go.Layout(\n",
    "    barmode='stack',\n",
    "    title='Count of 1 and 0 in binary variables'\n",
    ")\n",
    "\n",
    "fig = go.Figure(data=data, layout=layout)\n",
    "py.iplot(fig, filename='stacked-bar')"
   ]
  },
  {
   "cell_type": "markdown",
   "metadata": {},
   "source": [
    "## 4. Training:\n",
    "\n",
    "### Steps being performed in the below cell:\n",
    "\n",
    "Recheck the dataframe to see if the dataset is ready for train.\n",
    "\n",
    "There are certain NaN values in many columns of the dataframe.\n",
    "\n",
    "Replace the NaN values with the mean values of the respective column.\n",
    "\n",
    "Split the merged dataframe to inputs(X) and outputs(y)\n",
    "\n",
    "In our dataset, we have columns Subjectivity through Adj Close as inputs and the Label column output.\n",
    "\n",
    "Now, we will split our dataset to training and test samples. Lets train out model on first 70% of the data \n",
    "and test our prediction model on remaining 30% of the data.\n",
    "\n",
    "As this is a time series, it is important we do not randomly pick training and testing samples. A time series is a linear dataset where the data is in a chronological order. This requires the chronology to be preserved in while training the model and doing the prediction. This is why it is important to maintain a proper chronological split.\n",
    "\n",
    "#### Lets consider a few machine learning algorithms to perform our training on.\n",
    "\n",
    "Logistic Regression\n",
    "\n",
    "Linear Discriminant Analysis\n",
    "\n",
    "K Nearest Neighbors\n",
    "\n",
    "Decision trees\n",
    "\n",
    "Naive Bayes\n",
    "\n",
    "Support Vector Classifier\n",
    "\n",
    "Random Forest Classifier\n",
    "\n",
    "#### Lets add all of these classifiers to a list 'models'\n",
    "\n",
    "After splitting the dataset, we can see that there are 1393 samples for training and 597 samples for testing\n"
   ]
  },
  {
   "cell_type": "code",
   "execution_count": 32,
   "metadata": {},
   "outputs": [
    {
     "data": {
      "text/html": [
       "<div>\n",
       "<style scoped>\n",
       "    .dataframe tbody tr th:only-of-type {\n",
       "        vertical-align: middle;\n",
       "    }\n",
       "\n",
       "    .dataframe tbody tr th {\n",
       "        vertical-align: top;\n",
       "    }\n",
       "\n",
       "    .dataframe thead th {\n",
       "        text-align: right;\n",
       "    }\n",
       "</style>\n",
       "<table border=\"1\" class=\"dataframe\">\n",
       "  <thead>\n",
       "    <tr style=\"text-align: right;\">\n",
       "      <th></th>\n",
       "      <th>Date</th>\n",
       "      <th>Subjectivity</th>\n",
       "      <th>Objectivity</th>\n",
       "      <th>Positive</th>\n",
       "      <th>Negative</th>\n",
       "      <th>Neutral</th>\n",
       "      <th>Open</th>\n",
       "      <th>High</th>\n",
       "      <th>Low</th>\n",
       "      <th>Close</th>\n",
       "      <th>Volume</th>\n",
       "      <th>Adj Close</th>\n",
       "      <th>Label</th>\n",
       "    </tr>\n",
       "  </thead>\n",
       "  <tbody>\n",
       "    <tr>\n",
       "      <th>0</th>\n",
       "      <td>2008-08-08</td>\n",
       "      <td>75.000000</td>\n",
       "      <td>25.000000</td>\n",
       "      <td>18.750000</td>\n",
       "      <td>56.250000</td>\n",
       "      <td>25.000000</td>\n",
       "      <td>11432.089844</td>\n",
       "      <td>11759.959961</td>\n",
       "      <td>11388.040039</td>\n",
       "      <td>11734.320312</td>\n",
       "      <td>212830000.0</td>\n",
       "      <td>11734.320312</td>\n",
       "      <td>0</td>\n",
       "    </tr>\n",
       "    <tr>\n",
       "      <th>1</th>\n",
       "      <td>2008-08-11</td>\n",
       "      <td>83.333333</td>\n",
       "      <td>16.666667</td>\n",
       "      <td>41.666667</td>\n",
       "      <td>41.666667</td>\n",
       "      <td>16.666667</td>\n",
       "      <td>11729.669922</td>\n",
       "      <td>11867.110352</td>\n",
       "      <td>11675.530273</td>\n",
       "      <td>11782.349609</td>\n",
       "      <td>183190000.0</td>\n",
       "      <td>11782.349609</td>\n",
       "      <td>1</td>\n",
       "    </tr>\n",
       "    <tr>\n",
       "      <th>2</th>\n",
       "      <td>2008-08-12</td>\n",
       "      <td>56.250000</td>\n",
       "      <td>43.750000</td>\n",
       "      <td>18.750000</td>\n",
       "      <td>37.500000</td>\n",
       "      <td>43.750000</td>\n",
       "      <td>11781.700195</td>\n",
       "      <td>11782.349609</td>\n",
       "      <td>11601.519531</td>\n",
       "      <td>11642.469727</td>\n",
       "      <td>173590000.0</td>\n",
       "      <td>11642.469727</td>\n",
       "      <td>0</td>\n",
       "    </tr>\n",
       "    <tr>\n",
       "      <th>3</th>\n",
       "      <td>2008-08-13</td>\n",
       "      <td>38.461538</td>\n",
       "      <td>61.538462</td>\n",
       "      <td>15.384615</td>\n",
       "      <td>23.076923</td>\n",
       "      <td>61.538462</td>\n",
       "      <td>11632.809570</td>\n",
       "      <td>11633.780273</td>\n",
       "      <td>11453.339844</td>\n",
       "      <td>11532.959961</td>\n",
       "      <td>182550000.0</td>\n",
       "      <td>11532.959961</td>\n",
       "      <td>0</td>\n",
       "    </tr>\n",
       "    <tr>\n",
       "      <th>4</th>\n",
       "      <td>2008-08-14</td>\n",
       "      <td>45.454545</td>\n",
       "      <td>54.545455</td>\n",
       "      <td>36.363636</td>\n",
       "      <td>9.090909</td>\n",
       "      <td>54.545455</td>\n",
       "      <td>11532.070312</td>\n",
       "      <td>11718.280273</td>\n",
       "      <td>11450.889648</td>\n",
       "      <td>11615.929688</td>\n",
       "      <td>159790000.0</td>\n",
       "      <td>11615.929688</td>\n",
       "      <td>1</td>\n",
       "    </tr>\n",
       "  </tbody>\n",
       "</table>\n",
       "</div>"
      ],
      "text/plain": [
       "        Date  Subjectivity  Objectivity   Positive   Negative    Neutral  \\\n",
       "0 2008-08-08     75.000000    25.000000  18.750000  56.250000  25.000000   \n",
       "1 2008-08-11     83.333333    16.666667  41.666667  41.666667  16.666667   \n",
       "2 2008-08-12     56.250000    43.750000  18.750000  37.500000  43.750000   \n",
       "3 2008-08-13     38.461538    61.538462  15.384615  23.076923  61.538462   \n",
       "4 2008-08-14     45.454545    54.545455  36.363636   9.090909  54.545455   \n",
       "\n",
       "           Open          High           Low         Close       Volume  \\\n",
       "0  11432.089844  11759.959961  11388.040039  11734.320312  212830000.0   \n",
       "1  11729.669922  11867.110352  11675.530273  11782.349609  183190000.0   \n",
       "2  11781.700195  11782.349609  11601.519531  11642.469727  173590000.0   \n",
       "3  11632.809570  11633.780273  11453.339844  11532.959961  182550000.0   \n",
       "4  11532.070312  11718.280273  11450.889648  11615.929688  159790000.0   \n",
       "\n",
       "      Adj Close  Label  \n",
       "0  11734.320312      0  \n",
       "1  11782.349609      1  \n",
       "2  11642.469727      0  \n",
       "3  11532.959961      0  \n",
       "4  11615.929688      1  "
      ]
     },
     "execution_count": 32,
     "metadata": {},
     "output_type": "execute_result"
    }
   ],
   "source": [
    "# Print the datatypes and count of the dataframe\n",
    "merge_df.dtypes\n",
    "merge_df.count()\n",
    "# Change the NaN values to the mean value of that column\n",
    "nan_list = ['Subjectivity', 'Objectivity', 'Positive', 'Negative', 'Neutral']\n",
    "for col in nan_list:\n",
    "    merge_df[col] = merge_df[col].fillna(merge_df[col].mean())\n",
    "\n",
    "# Recheck the count\n",
    "merge_df.count()\n",
    "# Recheck the count\n",
    "merge_df.head()"
   ]
  },
  {
   "cell_type": "code",
   "execution_count": 33,
   "metadata": {},
   "outputs": [
    {
     "name": "stdout",
     "output_type": "stream",
     "text": [
      "1989\n",
      "1392\n"
     ]
    }
   ],
   "source": [
    "\n",
    "# Separate the dataframe for input(X) and output variables(y)\n",
    "X = merge_df.loc[:,'Subjectivity':'Adj Close']\n",
    "y = merge_df.loc[:,'Label']\n",
    "# Set the validation size, i.e the test set to 20%\n",
    "validation_size = 0.20\n",
    "# Split the dataset to test and train sets\n",
    "# Split the initial 70% of the data as training set and the remaining 30% data as the testing set\n",
    "train_size = int(len(X.index) * 0.7)\n",
    "print(len(y))\n",
    "print(train_size)\n"
   ]
  },
  {
   "cell_type": "code",
   "execution_count": 36,
   "metadata": {},
   "outputs": [],
   "source": [
    "\n",
    "X_train, X_test = X.loc[0:train_size], X.loc[train_size: len(X.index)]\n",
    "y_train, y_test = y.loc[0:train_size], y.loc[train_size: len(X.index)]\n",
    "\n",
    "\n",
    "\n"
   ]
  },
  {
   "cell_type": "code",
   "execution_count": 37,
   "metadata": {},
   "outputs": [
    {
     "name": "stdout",
     "output_type": "stream",
     "text": [
      "Observations:  1989\n",
      "X Training Observations:  1393\n",
      "X Testing Observations:  597\n",
      "y Training Observations:  1393\n",
      "y Testing Observations:  597\n"
     ]
    },
    {
     "data": {
      "image/png": "[encoded data removed]",
      "text/plain": [
       "<Figure size 432x288 with 1 Axes>"
      ]
     },
     "metadata": {},
     "output_type": "display_data"
    }
   ],
   "source": [
    "\n",
    "print('Observations: ',len(X.index))\n",
    "print('X Training Observations: ', (len(X_train)))\n",
    "print('X Testing Observations: ', (len(X_test)))\n",
    "print('y Training Observations: ', (len(y_train)))\n",
    "print('y Testing Observations: ' , (len(y_test)))\n",
    "plt.plot(X_train['Objectivity'])\n",
    "plt.plot([None for i in X_train['Objectivity']] + [x for x in X_test['Objectivity']])\n",
    "plt.show()\n",
    "num_folds = 10\n",
    "scoring = 'accuracy'\n"
   ]
  },
  {
   "cell_type": "code",
   "execution_count": 40,
   "metadata": {},
   "outputs": [],
   "source": [
    "# Append the models to the models list\n",
    "models = []\n",
    "models.append(('LR' , LogisticRegression()))\n",
    "models.append(('KNN' , KNeighborsClassifier()))\n",
    "models.append(('SVM' , SVC()))\n",
    "models.append(('DT' , DecisionTreeClassifier()))\n",
    "models.append(('RF' , RandomForestClassifier(n_estimators=50)))\n",
    "models.append(('LDA' , LinearDiscriminantAnalysis()))\n",
    "models.append(('XGBoost', XGBClassifier()))"
   ]
  },
  {
   "cell_type": "code",
   "execution_count": 41,
   "metadata": {},
   "outputs": [],
   "source": [
    "# standardlized the x_train and x_test set"
   ]
  },
  {
   "cell_type": "code",
   "execution_count": 42,
   "metadata": {},
   "outputs": [],
   "source": [
    "scaler = StandardScaler().fit(X_train)\n",
    "#scaled_X_train = scaler.transform(X_train)\n",
    "#scaled_X_test = scaler.transform(X_test)\n",
    "\n",
    "\n",
    "\n",
    "\n",
    "\n",
    "\n"
   ]
  },
  {
   "cell_type": "markdown",
   "metadata": {},
   "source": [
    "# Model building"
   ]
  },
  {
   "cell_type": "markdown",
   "metadata": {},
   "source": [
    "#### Now, we will iterate over all of the machine learning classifiers and in each loop , we will train against the algorithm, predict the outputs with inputs from the testing split.\n",
    "\n",
    "#### The process of training involves each individual model learning from its predictors and the respective output. Once the model learns it, the model is ready to perform the prediction. The prediction is performed on the testing set without giving away the output of the testing set to the model.\n",
    "\n",
    "#### The actual and the predicted outputs are compared to calculate the accuracy.\n",
    "\n",
    "#### We see that LDA seems to be giving a high accuracy score, but accuracy is still not the most trustworthy measure.\n"
   ]
  },
  {
   "cell_type": "code",
   "execution_count": null,
   "metadata": {},
   "outputs": [],
   "source": []
  },
  {
   "cell_type": "code",
   "execution_count": null,
   "metadata": {},
   "outputs": [],
   "source": []
  },
  {
   "cell_type": "markdown",
   "metadata": {},
   "source": [
    "## 1. model k-fold cross-validation result"
   ]
  },
  {
   "cell_type": "code",
   "execution_count": 43,
   "metadata": {},
   "outputs": [
    {
     "name": "stdout",
     "output_type": "stream",
     "text": [
      "k-fold validation result for LR is: : 0.526973 (mean) 0.056715 (standard deviation)\n",
      "k-fold validation result for KNN is: : 0.505288 (mean) 0.049119 (standard deviation)\n",
      "k-fold validation result for SVM is: : 0.537688 (mean) 0.052752 (standard deviation)\n",
      "k-fold validation result for DT is: : 0.608155 (mean) 0.101930 (standard deviation)\n",
      "k-fold validation result for RF is: : 0.578582 (mean) 0.055369 (standard deviation)\n",
      "k-fold validation result for LDA is: : 0.918844 (mean) 0.026559 (standard deviation)\n",
      "k-fold validation result for XGBoost is: : 0.620180 (mean) 0.076039 (standard deviation)\n"
     ]
    },
    {
     "data": {
      "text/plain": [
       "'for name, model in models:\\n    clf = model\\n    clf.fit(X_train, y_train)\\n    y_pred = clf.predict(X_test)\\n    accu_score = accuracy_score(y_test, y_pred)\\n    print(name + \": \" + str(accu_score))'"
      ]
     },
     "execution_count": 43,
     "metadata": {},
     "output_type": "execute_result"
    }
   ],
   "source": [
    "import warnings\n",
    "\n",
    "warnings.filterwarnings('ignore')\n",
    "# Evaluate each algorithm for accuracy\n",
    "results = []\n",
    "names = []\n",
    "\n",
    "for name, model in models:\n",
    "    kfold = KFold(n_splits=10, random_state=42)\n",
    "    cv_results = cross_val_score(model, X_train, y_train, cv=kfold, scoring=scoring)\n",
    "    \n",
    "    results.append(cv_results)\n",
    "\n",
    "    names.append(name)\n",
    "   \n",
    "    Res = \"%s: %f (%s) %f (%s)\" % (\"k-fold validation result for \"+ name+\" is: \", cv_results.mean(),\"mean\",cv_results.std(),\"standard deviation\")\n",
    "    print(Res) \n",
    "    \n",
    "'''for name, model in models:\n",
    "    clf = model\n",
    "    clf.fit(X_train, y_train)\n",
    "    y_pred = clf.predict(X_test)\n",
    "    accu_score = accuracy_score(y_test, y_pred)\n",
    "    print(name + \": \" + str(accu_score))'''"
   ]
  },
  {
   "cell_type": "code",
   "execution_count": 44,
   "metadata": {},
   "outputs": [
    {
     "name": "stdout",
     "output_type": "stream",
     "text": [
      "Test set prediction accuracy score for:  LR: 0.5309882747068677\n",
      "Test set prediction accuracy score for:  KNN: 0.45896147403685095\n",
      "Test set prediction accuracy score for:  SVM: 0.5309882747068677\n",
      "Test set prediction accuracy score for:  DT: 0.5728643216080402\n",
      "Test set prediction accuracy score for:  RF: 0.541038525963149\n",
      "Test set prediction accuracy score for:  LDA: 0.9430485762144054\n",
      "Test set prediction accuracy score for:  XGBoost: 0.5862646566164154\n"
     ]
    }
   ],
   "source": [
    "\n",
    "for name, model in models:\n",
    "    aaaaaa = model\n",
    "    \n",
    "     \n",
    "    #aaaaaa.fit(rescaledX, y_train)\n",
    "    aaaaaa.fit(X_train, y_train)\n",
    "    y_pred = aaaaaa.predict(X_test)\n",
    "    accu_score = accuracy_score(y_test, y_pred)\n",
    "    print(\"Test set prediction accuracy score for: \", name + \": \" + str(accu_score))\n",
    "    "
   ]
  },
  {
   "cell_type": "code",
   "execution_count": 47,
   "metadata": {},
   "outputs": [],
   "source": [
    "\n",
    "# prepare\n",
    "#Standardize features by removing the mean and scaling to unit variance\n",
    "scaler = StandardScaler().fit(X_train)\n",
    "\n",
    "rescaledX = scaler.transform(X_train)\n",
    "\n"
   ]
  },
  {
   "cell_type": "markdown",
   "metadata": {},
   "source": [
    "### (1)Accurcy for LDA MODEL"
   ]
  },
  {
   "cell_type": "code",
   "execution_count": 94,
   "metadata": {},
   "outputs": [
    {
     "name": "stdout",
     "output_type": "stream",
     "text": [
      "Collecting yellowbrick\n",
      "\u001b[?25l  Downloading https://files.pythonhosted.org/packages/f0/b3/fffa077157c38e729eb033fdd0ad57fbe92db1aac303c69b283ce10deb9b/yellowbrick-0.9-py2.py3-none-any.whl (281kB)\n",
      "\u001b[K    100% |████████████████████████████████| 286kB 8.3MB/s \n",
      "\u001b[?25hRequirement already satisfied: cycler>=0.10.0 in /Users/yangyu/anaconda3/lib/python3.6/site-packages (from yellowbrick) (0.10.0)\n",
      "Requirement already satisfied: matplotlib<3.0,>=1.5.1 in /Users/yangyu/anaconda3/lib/python3.6/site-packages (from yellowbrick) (2.2.2)\n",
      "Requirement already satisfied: scipy>=1.0.0 in /Users/yangyu/anaconda3/lib/python3.6/site-packages (from yellowbrick) (1.1.0)\n",
      "Collecting scikit-learn>=0.20 (from yellowbrick)\n",
      "\u001b[?25l  Downloading https://files.pythonhosted.org/packages/75/7c/e75ca3063e41ff018ac676eb2dbe6470d12aed9dcf4e05146ea3b49a19db/scikit_learn-0.20.1-cp36-cp36m-macosx_10_6_intel.macosx_10_9_intel.macosx_10_9_x86_64.macosx_10_10_intel.macosx_10_10_x86_64.whl (7.9MB)\n",
      "\u001b[K    100% |████████████████████████████████| 7.9MB 5.5MB/s \n",
      "\u001b[?25hRequirement already satisfied: numpy>=1.13.0 in /Users/yangyu/anaconda3/lib/python3.6/site-packages (from yellowbrick) (1.14.3)\n",
      "Requirement already satisfied: six in /Users/yangyu/anaconda3/lib/python3.6/site-packages (from cycler>=0.10.0->yellowbrick) (1.11.0)\n",
      "Requirement already satisfied: pyparsing!=2.0.4,!=2.1.2,!=2.1.6,>=2.0.1 in /Users/yangyu/anaconda3/lib/python3.6/site-packages (from matplotlib<3.0,>=1.5.1->yellowbrick) (2.2.0)\n",
      "Requirement already satisfied: python-dateutil>=2.1 in /Users/yangyu/anaconda3/lib/python3.6/site-packages (from matplotlib<3.0,>=1.5.1->yellowbrick) (2.7.3)\n",
      "Requirement already satisfied: pytz in /Users/yangyu/anaconda3/lib/python3.6/site-packages (from matplotlib<3.0,>=1.5.1->yellowbrick) (2018.4)\n",
      "Requirement already satisfied: kiwisolver>=1.0.1 in /Users/yangyu/anaconda3/lib/python3.6/site-packages (from matplotlib<3.0,>=1.5.1->yellowbrick) (1.0.1)\n",
      "Requirement already satisfied: setuptools in /Users/yangyu/anaconda3/lib/python3.6/site-packages (from kiwisolver>=1.0.1->matplotlib<3.0,>=1.5.1->yellowbrick) (39.1.0)\n",
      "\u001b[31mdistributed 1.21.8 requires msgpack, which is not installed.\u001b[0m\n",
      "Installing collected packages: scikit-learn, yellowbrick\n",
      "  Found existing installation: scikit-learn 0.19.1\n",
      "    Uninstalling scikit-learn-0.19.1:\n",
      "      Successfully uninstalled scikit-learn-0.19.1\n",
      "Successfully installed scikit-learn-0.20.1 yellowbrick-0.9\n",
      "\u001b[33mYou are using pip version 10.0.1, however version 18.1 is available.\n",
      "You should consider upgrading via the 'pip install --upgrade pip' command.\u001b[0m\n",
      " Accuracy score: \n",
      " 0.9430485762144054\n",
      "Confusion matrix: \n",
      " [[254  26]\n",
      " [  8 309]]\n",
      "Classification report: \n",
      "              precision    recall  f1-score   support\n",
      "\n",
      "          0       0.97      0.91      0.94       280\n",
      "          1       0.92      0.97      0.95       317\n",
      "\n",
      "avg / total       0.94      0.94      0.94       597\n",
      "\n"
     ]
    },
    {
     "data": {
      "image/png": "[encoded data removed]",
      "text/plain": [
       "<Figure size 576x396 with 2 Axes>"
      ]
     },
     "metadata": {},
     "output_type": "display_data"
    }
   ],
   "source": [
    "!pip install yellowbrick\n",
    "model_lda = LinearDiscriminantAnalysis()\n",
    "model_lda.fit(rescaledX, y_train)\n",
    "# estimate accuracy on validation dataset\n",
    "rescaledValidationX = scaler.transform(X_test)\n",
    "predict_lda = model_lda.predict(rescaledValidationX)\n",
    "\n",
    "print(\" Accuracy score: \\n\",accuracy_score(y_test, predict_lda))\n",
    "print(\"Confusion matrix: \\n\",confusion_matrix(y_test, predict_lda))\n",
    "print(\"Classification report: \\n\",classification_report(y_test, predict_lda))\n",
    "from yellowbrick.classifier import ClassificationReport\n",
    "classes = [\"0\", \"1\"]\n",
    "# Instantiate the classification model and visualizer\n",
    "visualizer = ClassificationReport(LinearDiscriminantAnalysis(), classes=classes, support=True)\n",
    "\n",
    "visualizer.fit(rescaledX, y_train)  # Fit the visualizer and the model\n",
    "visualizer.score(rescaledValidationX, y_test)  # Evaluate the model on the test data\n",
    "visualizer.poof()\n"
   ]
  },
  {
   "cell_type": "markdown",
   "metadata": {},
   "source": [
    "## (2)KNN model"
   ]
  },
  {
   "cell_type": "code",
   "execution_count": 95,
   "metadata": {},
   "outputs": [
    {
     "name": "stdout",
     "output_type": "stream",
     "text": [
      "\u001b[1;34;43m Accuracy score: \u001b[0m\n",
      " 0.5326633165829145\n",
      "Confusion matrix: \n",
      " [[132 148]\n",
      " [131 186]]\n",
      "Classification report: \n",
      "              precision    recall  f1-score   support\n",
      "\n",
      "          0       0.50      0.47      0.49       280\n",
      "          1       0.56      0.59      0.57       317\n",
      "\n",
      "avg / total       0.53      0.53      0.53       597\n",
      "\n"
     ]
    },
    {
     "data": {
      "image/png": "[encoded data removed]",
      "text/plain": [
       "<Figure size 576x396 with 2 Axes>"
      ]
     },
     "metadata": {},
     "output_type": "display_data"
    }
   ],
   "source": [
    "\n",
    "model_knn = KNeighborsClassifier()\n",
    "model_knn.fit(rescaledX, y_train)\n",
    "# estimate accuracy on validation dataset\n",
    "rescaledValidationX = scaler.transform(X_test)\n",
    "predict_knn = model_knn.predict(rescaledValidationX)\n",
    "\n",
    "print(\"\\033[1;34;43m Accuracy score: \\033[0m\\n\",accuracy_score(y_test,predict_knn))\n",
    "print(\"Confusion matrix: \\n\",confusion_matrix(y_test, predict_knn))\n",
    "print(\"Classification report: \\n\",classification_report(y_test, predict_knn))\n",
    "\n",
    "from yellowbrick.classifier import ClassificationReport\n",
    "classes = [\"0\", \"1\"]\n",
    "# Instantiate the classification model and visualizer\n",
    "visualizer = ClassificationReport(KNeighborsClassifier(), classes=classes, support=True)\n",
    "\n",
    "visualizer.fit(rescaledX, y_train)  # Fit the visualizer and the model\n",
    "visualizer.score(rescaledValidationX, y_test)  # Evaluate the model on the test data\n",
    "visualizer.poof()\n"
   ]
  },
  {
   "cell_type": "markdown",
   "metadata": {},
   "source": [
    "## (3)Logistic model"
   ]
  },
  {
   "cell_type": "code",
   "execution_count": 96,
   "metadata": {},
   "outputs": [
    {
     "name": "stdout",
     "output_type": "stream",
     "text": [
      "accuracy score:\n",
      " 0.9028475711892797\n",
      "confusion matrix: \n",
      " [[225  55]\n",
      " [  3 314]]\n",
      "classification report: \n",
      "              precision    recall  f1-score   support\n",
      "\n",
      "          0       0.99      0.80      0.89       280\n",
      "          1       0.85      0.99      0.92       317\n",
      "\n",
      "avg / total       0.91      0.90      0.90       597\n",
      "\n"
     ]
    },
    {
     "data": {
      "image/png": "[encoded data removed]",
      "text/plain": [
       "<Figure size 576x396 with 2 Axes>"
      ]
     },
     "metadata": {},
     "output_type": "display_data"
    }
   ],
   "source": [
    "\n",
    "model_LOG =  LogisticRegression()\n",
    "model_LOG.fit(rescaledX, y_train)\n",
    "# estimate accuracy on validation dataset\n",
    "rescaledValidationX = scaler.transform(X_test)\n",
    "predict_LOG = model_LOG.predict(rescaledValidationX)\n",
    "\n",
    "print(\"accuracy score:\\n\",accuracy_score(y_test, predict_LOG))\n",
    "print(\"confusion matrix: \\n\",confusion_matrix(y_test, predict_LOG))\n",
    "print(\"classification report: \\n\",classification_report(y_test, predict_LOG))\n",
    "from yellowbrick.classifier import ClassificationReport\n",
    "classes = [\"0\", \"1\"]\n",
    "# Instantiate the classification model and visualizer\n",
    "visualizer = ClassificationReport(LogisticRegression(), classes=classes, support=True)\n",
    "\n",
    "visualizer.fit(rescaledX, y_train)  # Fit the visualizer and the model\n",
    "visualizer.score(rescaledValidationX, y_test)  # Evaluate the model on the test data\n",
    "visualizer.poof()"
   ]
  },
  {
   "cell_type": "markdown",
   "metadata": {},
   "source": [
    "## (4)SVM"
   ]
  },
  {
   "cell_type": "code",
   "execution_count": 97,
   "metadata": {},
   "outputs": [
    {
     "name": "stdout",
     "output_type": "stream",
     "text": [
      "accuracy score:\n",
      " 0.5527638190954773\n",
      "confusion matrix: \n",
      " [[ 91 189]\n",
      " [ 78 239]]\n",
      "classification report: \n",
      "              precision    recall  f1-score   support\n",
      "\n",
      "          0       0.54      0.33      0.41       280\n",
      "          1       0.56      0.75      0.64       317\n",
      "\n",
      "avg / total       0.55      0.55      0.53       597\n",
      "\n"
     ]
    },
    {
     "data": {
      "image/png": "[encoded data removed]",
      "text/plain": [
       "<Figure size 576x396 with 2 Axes>"
      ]
     },
     "metadata": {},
     "output_type": "display_data"
    }
   ],
   "source": [
    "model_SVM =  SVC()\n",
    "model_SVM.fit(rescaledX, y_train)\n",
    "# estimate accuracy on validation dataset\n",
    "rescaledValidationX = scaler.transform(X_test)\n",
    "predict_SVM = model_SVM.predict(rescaledValidationX)\n",
    "\n",
    "print(\"accuracy score:\\n\",accuracy_score(y_test, predict_SVM))\n",
    "print(\"confusion matrix: \\n\",confusion_matrix(y_test, predict_SVM))\n",
    "print(\"classification report: \\n\",classification_report(y_test, predict_SVM))\n",
    "\n",
    "from yellowbrick.classifier import ClassificationReport\n",
    "classes = [\"0\", \"1\"]\n",
    "# Instantiate the classification model and visualizer\n",
    "visualizer = ClassificationReport(SVC(), classes=classes, support=True)\n",
    "\n",
    "visualizer.fit(rescaledX, y_train)  # Fit the visualizer and the model\n",
    "visualizer.score(rescaledValidationX, y_test)  # Evaluate the model on the test data\n",
    "visualizer.poof()"
   ]
  },
  {
   "cell_type": "markdown",
   "metadata": {},
   "source": [
    "## (5)Decision trees"
   ]
  },
  {
   "cell_type": "code",
   "execution_count": 98,
   "metadata": {},
   "outputs": [
    {
     "name": "stdout",
     "output_type": "stream",
     "text": [
      "accuracy score:\n",
      " 0.5527638190954773\n",
      "confusion matrix: \n",
      " [[210  70]\n",
      " [197 120]]\n",
      "classification report: \n",
      "              precision    recall  f1-score   support\n",
      "\n",
      "          0       0.52      0.75      0.61       280\n",
      "          1       0.63      0.38      0.47       317\n",
      "\n",
      "avg / total       0.58      0.55      0.54       597\n",
      "\n"
     ]
    },
    {
     "data": {
      "image/png": "[encoded data removed]",
      "text/plain": [
       "<Figure size 576x396 with 2 Axes>"
      ]
     },
     "metadata": {},
     "output_type": "display_data"
    }
   ],
   "source": [
    "model_DT = DecisionTreeClassifier()\n",
    "model_DT.fit(rescaledX, y_train)\n",
    "# estimate accuracy on validation dataset\n",
    "rescaledValidationX = scaler.transform(X_test)\n",
    "predict_DT = model_DT.predict(rescaledValidationX)\n",
    "\n",
    "print(\"accuracy score:\\n\",accuracy_score(y_test, predict_DT))\n",
    "print(\"confusion matrix: \\n\",confusion_matrix(y_test, predict_DT))\n",
    "print(\"classification report: \\n\",classification_report(y_test, predict_DT))\n",
    "\n",
    "from yellowbrick.classifier import ClassificationReport\n",
    "classes = [\"0\", \"1\"]\n",
    "# Instantiate the classification model and visualizer\n",
    "visualizer = ClassificationReport(DecisionTreeClassifier(), classes=classes, support=True)\n",
    "\n",
    "visualizer.fit(rescaledX, y_train)  # Fit the visualizer and the model\n",
    "visualizer.score(rescaledValidationX, y_test)  # Evaluate the model on the test data\n",
    "visualizer.poof()"
   ]
  },
  {
   "cell_type": "markdown",
   "metadata": {},
   "source": [
    "## (6)Random Forest"
   ]
  },
  {
   "cell_type": "code",
   "execution_count": 99,
   "metadata": {},
   "outputs": [
    {
     "name": "stdout",
     "output_type": "stream",
     "text": [
      "accuracy score:\n",
      " 0.5443886097152428\n",
      "confusion matrix: \n",
      " [[126 154]\n",
      " [118 199]]\n",
      "classification report: \n",
      "              precision    recall  f1-score   support\n",
      "\n",
      "          0       0.52      0.45      0.48       280\n",
      "          1       0.56      0.63      0.59       317\n",
      "\n",
      "avg / total       0.54      0.54      0.54       597\n",
      "\n"
     ]
    },
    {
     "data": {
      "image/png": "[encoded data removed]",
      "text/plain": [
       "<Figure size 576x396 with 2 Axes>"
      ]
     },
     "metadata": {},
     "output_type": "display_data"
    }
   ],
   "source": [
    "model_rf= RandomForestClassifier(n_estimators=50)\n",
    "model_rf.fit(rescaledX, y_train)\n",
    "# estimate accuracy on validation dataset\n",
    "rescaledValidationX = scaler.transform(X_test)\n",
    "predict_rf = model_rf.predict(rescaledValidationX)\n",
    "\n",
    "print(\"accuracy score:\\n\",accuracy_score(y_test, predict_rf))\n",
    "print(\"confusion matrix: \\n\",confusion_matrix(y_test, predict_rf))\n",
    "rf0=classification_report(y_test, predict_rf)\n",
    "#rf = confusion_matrix(y_test, predict_rf)/confusion_matrix(y_test, predict_rf).astype(np.float).sum(axis=1)\n",
    "#sns.heatmap(rf, annot=True)\n",
    "\n",
    "print(\"classification report: \\n\",classification_report(y_test, predict_rf))\n",
    "\n",
    "from yellowbrick.classifier import ClassificationReport\n",
    "classes = [\"0\", \"1\"]\n",
    "# Instantiate the classification model and visualizer\n",
    "visualizer = ClassificationReport(RandomForestClassifier(n_estimators=50), classes=classes, support=True)\n",
    "\n",
    "visualizer.fit(rescaledX, y_train)  # Fit the visualizer and the model\n",
    "visualizer.score(rescaledValidationX, y_test)  # Evaluate the model on the test data\n",
    "visualizer.poof()"
   ]
  },
  {
   "cell_type": "code",
   "execution_count": null,
   "metadata": {},
   "outputs": [],
   "source": []
  },
  {
   "cell_type": "markdown",
   "metadata": {},
   "source": [
    "## GridSearchCV(estimator=svc, param_grid=dict(C=Cs)"
   ]
  },
  {
   "cell_type": "code",
   "execution_count": null,
   "metadata": {},
   "outputs": [],
   "source": []
  },
  {
   "cell_type": "code",
   "execution_count": 100,
   "metadata": {},
   "outputs": [
    {
     "name": "stdout",
     "output_type": "stream",
     "text": [
      "accuracy score:\n",
      " 0.9731993299832495\n",
      "confusion matrix: \n",
      " [[272   8]\n",
      " [  8 309]]\n",
      "classification report: \n",
      "              precision    recall  f1-score   support\n",
      "\n",
      "          0       0.97      0.97      0.97       280\n",
      "          1       0.97      0.97      0.97       317\n",
      "\n",
      "avg / total       0.97      0.97      0.97       597\n",
      "\n"
     ]
    },
    {
     "data": {
      "image/png": "[encoded data removed]",
      "text/plain": [
       "<Figure size 576x396 with 2 Axes>"
      ]
     },
     "metadata": {},
     "output_type": "display_data"
    }
   ],
   "source": [
    "params = [\n",
    "        {'kernel': ['linear'], 'C': [1, 10, 100, 100]},\n",
    "        {'kernel': ['poly'], 'C': [1], 'degree': [2, 3]},\n",
    "        {'kernel': ['rbf'], 'C': [1, 10, 100, 100], 'gamma':[1, 0.1, 0.01, 0.001]}\n",
    "        ]\n",
    "\n",
    "model_GS2 = GridSearchCV(SVC(), params, scoring='roc_auc', cv=10 )\n",
    "model_GS2.fit(rescaledX, y_train)\n",
    "# estimate accuracy on validation dataset\n",
    "rescaledValidationX = scaler.transform(X_test)\n",
    "predict_GS2 = model_GS2.predict(rescaledValidationX)\n",
    "GS_REPORT2 = classification_report(y_test, predict_GS2)\n",
    "print(\"accuracy score:\\n\",accuracy_score(y_test, predict_GS2))\n",
    "print(\"confusion matrix: \\n\",confusion_matrix(y_test, predict_GS2))\n",
    "print(\"classification report: \\n\",classification_report(y_test, predict_GS2))\n",
    "from yellowbrick.classifier import ClassificationReport\n",
    "classes = [\"0\", \"1\"]\n",
    "# Instantiate the classification model and visualizer\n",
    "visualizer = ClassificationReport(GridSearchCV(SVC(), params, scoring='roc_auc', cv=10 ), classes=classes, support=True)\n",
    "\n",
    "visualizer.fit(rescaledX, y_train)  # Fit the visualizer and the model\n",
    "visualizer.score(rescaledValidationX, y_test)  # Evaluate the model on the test data\n",
    "visualizer.poof()"
   ]
  },
  {
   "cell_type": "code",
   "execution_count": null,
   "metadata": {},
   "outputs": [],
   "source": []
  },
  {
   "cell_type": "code",
   "execution_count": 102,
   "metadata": {},
   "outputs": [
    {
     "name": "stdout",
     "output_type": "stream",
     "text": [
      "Test set prediction accuracy score for:  LR: 0.5309882747068677\n",
      "Test set prediction accuracy score for:  KNN: 0.45896147403685095\n",
      "Test set prediction accuracy score for:  SVM: 0.5309882747068677\n",
      "Test set prediction accuracy score for:  DT: 0.5812395309882747\n",
      "Test set prediction accuracy score for:  RF: 0.5393634840871022\n",
      "Test set prediction accuracy score for:  LDA: 0.9430485762144054\n",
      "Test set prediction accuracy score for:  XGBoost: 0.5862646566164154\n"
     ]
    }
   ],
   "source": [
    "for name, model in models:\n",
    "    \n",
    "    model.fit(X_train, y_train)\n",
    "    y_pred = model.predict(X_test)\n",
    "    accu_score = accuracy_score(y_test, y_pred)\n",
    "    print(\"Test set prediction accuracy score for: \", name + \": \" + str(accu_score))\n",
    "    "
   ]
  },
  {
   "cell_type": "markdown",
   "metadata": {},
   "source": [
    "## XGBOOST"
   ]
  },
  {
   "cell_type": "code",
   "execution_count": 103,
   "metadata": {},
   "outputs": [
    {
     "name": "stdout",
     "output_type": "stream",
     "text": [
      "accuracy score:\n",
      " 0.5862646566164154\n",
      "confusion matrix: \n",
      " [[ 36 244]\n",
      " [  3 314]]\n",
      "classification report: \n",
      "              precision    recall  f1-score   support\n",
      "\n",
      "          0       0.92      0.13      0.23       280\n",
      "          1       0.56      0.99      0.72       317\n",
      "\n",
      "avg / total       0.73      0.59      0.49       597\n",
      "\n"
     ]
    },
    {
     "data": {
      "image/png": "[encoded data removed]",
      "text/plain": [
       "<Figure size 576x396 with 2 Axes>"
      ]
     },
     "metadata": {},
     "output_type": "display_data"
    }
   ],
   "source": [
    "model_xgb = XGBClassifier()\n",
    "model_xgb.fit(rescaledX, y_train)\n",
    "# estimate accuracy on validation dataset\n",
    "rescaledValidationX = scaler.transform(X_test)\n",
    "predictions = model_xgb.predict(rescaledValidationX)\n",
    "\n",
    "print(\"accuracy score:\\n\",accuracy_score(y_test, predictions))\n",
    "print(\"confusion matrix: \\n\",confusion_matrix(y_test, predictions))\n",
    "print(\"classification report: \\n\",classification_report(y_test, predictions))\n",
    "\n",
    "from yellowbrick.classifier import ClassificationReport\n",
    "classes = [\"0\", \"1\"]\n",
    "# Instantiate the classification model and visualizer\n",
    "visualizer = ClassificationReport(XGBClassifier(), classes=classes, support=True)\n",
    "\n",
    "visualizer.fit(rescaledX, y_train)  # Fit the visualizer and the model\n",
    "visualizer.score(rescaledValidationX, y_test)  # Evaluate the model on the test data\n",
    "visualizer.poof()"
   ]
  },
  {
   "cell_type": "markdown",
   "metadata": {},
   "source": [
    "#### As data distributions are in varying ranges, it would be good to scale all of our data and then use it to train our algorithm.\n",
    "\n",
    "#### The numerical range in each of the columns are in different ranges. Sometimes getting all the data in all columns to the same range helps better train the model. We can use a method StandardScalar to scale the data.\n",
    "\n",
    "#### Lets print out the accuracy score, confusion matrix.\n",
    "\n",
    "#### Below we are scaling the data and training using LDA and XGBoost. It can be seen that even after scaling the data the accuracy hasn't changed much and is still at 94% and 58% accuracy respectively for LDA and XGBoost.\n"
   ]
  },
  {
   "cell_type": "markdown",
   "metadata": {},
   "source": [
    "#### In the cell below, we are calculating the AUC score and plotting the ROC AUC curve. This is done to checking if LDA is performing well or not.\n",
    "\n",
    "#### The curve plots a line and the higher the area under the curved line, the better the model.\n",
    "\n",
    "#### We can see below that the AUC score is 0.5 and the under the curve as seen is about 50%. This score is worthless and and explains that the LDA is badly trained. The AUC score has to be more than 0.5 and the higher the score, the better the performance. A score of 0.5 only shows that LDA is a worthless model."
   ]
  },
  {
   "cell_type": "code",
   "execution_count": 104,
   "metadata": {},
   "outputs": [
    {
     "name": "stdout",
     "output_type": "stream",
     "text": [
      "accuracy score:\n",
      "0.5644891122278057\n",
      "confusion matrix: \n",
      "[[131 149]\n",
      " [111 206]]\n",
      "classification report: \n",
      "             precision    recall  f1-score   support\n",
      "\n",
      "          0       0.54      0.47      0.50       280\n",
      "          1       0.58      0.65      0.61       317\n",
      "\n",
      "avg / total       0.56      0.56      0.56       597\n",
      "\n"
     ]
    }
   ],
   "source": [
    "# Scaling Random Forests\n",
    "\n",
    "model_rf = RandomForestClassifier(n_estimators=1000)\n",
    "model_rf.fit(rescaledX, y_train)\n",
    "# estimate accuracy on validation dataset\n",
    "rescaledValidationX = scaler.transform(X_test)\n",
    "predictions = model_rf.predict(rescaledValidationX)\n",
    "print(\"accuracy score:\")\n",
    "print(accuracy_score(y_test, predictions))\n",
    "print(\"confusion matrix: \")\n",
    "print(confusion_matrix(y_test, predictions))\n",
    "print(\"classification report: \")\n",
    "print(classification_report(y_test, predictions))\n"
   ]
  },
  {
   "cell_type": "markdown",
   "metadata": {},
   "source": [
    "## 5. Feature Importances:\n",
    "\n",
    "#### Below you can find the feature with highest to least important features plotted in the graph.\n",
    "\n",
    "#### This is for XGBoost. We are using the feature importance function provided by XGBoost to check which are the predictor variables which have the highest effect on training the model. This is done to check if some of the predictor variables which have the least effect on training can be removed. Once the least effective predictors are removed, the model can be trained again which usually leads to better accuracy.\n",
    "\n",
    "#### Below we can see that 'Low' and 'Neutral' columns have the highest effect in training the model.\n",
    "\n",
    "#### There are other columns 'Close', 'Objectivity', 'Date', 'Positive' which have certain effect in the model, but the remaining columns do not have any effect and can thus be ignored.\n",
    "\n",
    "#### In the cells ahead, we will try removing the non effective columns and train again to see if the accuracy of the model can be improved."
   ]
  },
  {
   "cell_type": "code",
   "execution_count": 145,
   "metadata": {},
   "outputs": [
    {
     "data": {
      "application/vnd.plotly.v1+json": {
       "data": [
        {
         "marker": {
          "color": [
           0,
           0,
           0,
           0.005328597035259008,
           0.023090586066246033,
           0.05150976777076721,
           0.0657193586230278,
           0.07460035383701324,
           0.09413854032754898,
           0.3214920163154602,
           0.3641207814216614
          ],
          "colorscale": "Viridis",
          "reversescale": true
         },
         "name": "Feature importance for XGBoost",
         "orientation": "h",
         "type": "bar",
         "uid": "224589a9-6226-4529-9f81-ab55794f8b29",
         "x": [
          0,
          0,
          0,
          0.005328597035259008,
          0.023090586066246033,
          0.05150976777076721,
          0.0657193586230278,
          0.07460035383701324,
          0.09413854032754898,
          0.3214920163154602,
          0.3641207814216614
         ],
         "y": [
          "Negative",
          "Subjectivity",
          "Volume",
          "High",
          "Open",
          "Positive",
          "Date",
          "Objectivity",
          "Close",
          "Neutral",
          "Low"
         ]
        }
       ],
       "layout": {
        "height": 1000,
        "title": "Barplot of Feature importances for XGBoost",
        "width": 1000,
        "yaxis": {
         "showgrid": false,
         "showline": false,
         "showticklabels": true
        }
       }
      },
      "text/html": [
       "<div id=\"11312abb-dd2f-4a07-bb36-c5740b22ae5c\" style=\"height: 1000px; width: 1000px;\" class=\"plotly-graph-div\"></div><script type=\"text/javascript\">require([\"plotly\"], function(Plotly) { window.PLOTLYENV=window.PLOTLYENV || {};window.PLOTLYENV.BASE_URL=\"https://plot.ly\";Plotly.newPlot(\"11312abb-dd2f-4a07-bb36-c5740b22ae5c\", [{\"marker\": {\"color\": [0.0, 0.0, 0.0, 0.005328597035259008, 0.023090586066246033, 0.05150976777076721, 0.0657193586230278, 0.07460035383701324, 0.09413854032754898, 0.3214920163154602, 0.3641207814216614], \"colorscale\": \"Viridis\", \"reversescale\": true}, \"name\": \"Feature importance for XGBoost\", \"orientation\": \"h\", \"x\": [0.0, 0.0, 0.0, 0.005328597035259008, 0.023090586066246033, 0.05150976777076721, 0.0657193586230278, 0.07460035383701324, 0.09413854032754898, 0.3214920163154602, 0.3641207814216614], \"y\": [\"Negative\", \"Subjectivity\", \"Volume\", \"High\", \"Open\", \"Positive\", \"Date\", \"Objectivity\", \"Close\", \"Neutral\", \"Low\"], \"type\": \"bar\", \"uid\": \"224589a9-6226-4529-9f81-ab55794f8b29\"}], {\"yaxis\": {\"showgrid\": false, \"showline\": false, \"showticklabels\": true}, \"title\": \"Barplot of Feature importances for XGBoost\", \"width\": 1000, \"height\": 1000}, {\"showLink\": true, \"linkText\": \"Export to plot.ly\"})});</script>"
      ],
      "text/vnd.plotly.v1+html": [
       "<div id=\"11312abb-dd2f-4a07-bb36-c5740b22ae5c\" style=\"height: 1000px; width: 1000px;\" class=\"plotly-graph-div\"></div><script type=\"text/javascript\">require([\"plotly\"], function(Plotly) { window.PLOTLYENV=window.PLOTLYENV || {};window.PLOTLYENV.BASE_URL=\"https://plot.ly\";Plotly.newPlot(\"11312abb-dd2f-4a07-bb36-c5740b22ae5c\", [{\"marker\": {\"color\": [0.0, 0.0, 0.0, 0.005328597035259008, 0.023090586066246033, 0.05150976777076721, 0.0657193586230278, 0.07460035383701324, 0.09413854032754898, 0.3214920163154602, 0.3641207814216614], \"colorscale\": \"Viridis\", \"reversescale\": true}, \"name\": \"Feature importance for XGBoost\", \"orientation\": \"h\", \"x\": [0.0, 0.0, 0.0, 0.005328597035259008, 0.023090586066246033, 0.05150976777076721, 0.0657193586230278, 0.07460035383701324, 0.09413854032754898, 0.3214920163154602, 0.3641207814216614], \"y\": [\"Negative\", \"Subjectivity\", \"Volume\", \"High\", \"Open\", \"Positive\", \"Date\", \"Objectivity\", \"Close\", \"Neutral\", \"Low\"], \"type\": \"bar\", \"uid\": \"224589a9-6226-4529-9f81-ab55794f8b29\"}], {\"yaxis\": {\"showgrid\": false, \"showline\": false, \"showticklabels\": true}, \"title\": \"Barplot of Feature importances for XGBoost\", \"width\": 1000, \"height\": 1000}, {\"showLink\": true, \"linkText\": \"Export to plot.ly\"})});</script>"
      ]
     },
     "metadata": {},
     "output_type": "display_data"
    }
   ],
   "source": [
    "features = merge_df.drop(['Label'],axis=1).columns.values\n",
    "\n",
    "x, y = (list(x) for x in zip(*sorted(zip(model_xgb.feature_importances_, features), \n",
    "                                                            reverse = False)))\n",
    "trace2 = go.Bar(\n",
    "    x=x ,\n",
    "    y=y,\n",
    "    marker=dict(\n",
    "        color=x,\n",
    "        colorscale = 'Viridis',\n",
    "        reversescale = True\n",
    "    ),\n",
    "    name='Feature importance for XGBoost',\n",
    "    orientation='h',\n",
    ")\n",
    "\n",
    "layout = dict(\n",
    "    title='Barplot of Feature importances for XGBoost',\n",
    "     width = 1000, height = 1000,\n",
    "    yaxis=dict(\n",
    "        showgrid=False,\n",
    "        showline=False,\n",
    "        showticklabels=True,\n",
    "#         domain=[0, 0.85],\n",
    "    ))\n",
    "\n",
    "fig1 = go.Figure(data=[trace2])\n",
    "fig1['layout'].update(layout)\n",
    "py.iplot(fig1, filename='plots')\n"
   ]
  },
  {
   "cell_type": "markdown",
   "metadata": {},
   "source": [
    "#### Below is the feature importance graph for Random Forests.\n",
    "\n",
    "#### This is just to see the sample important features for Random Forests. We are not going to use Random Forests for further tuning our model."
   ]
  },
  {
   "cell_type": "code",
   "execution_count": 77,
   "metadata": {
    "scrolled": false
   },
   "outputs": [
    {
     "data": {
      "application/vnd.plotly.v1+json": {
       "data": [
        {
         "marker": {
          "color": [
           0.052668806676198394,
           0.05273126838439793,
           0.052824011115477375,
           0.06932884104876996,
           0.07122333012190003,
           0.09614870357679074,
           0.09838631819118301,
           0.11433711427853824,
           0.11639005338618202,
           0.11977358339729306,
           0.15618796982326918
          ],
          "colorscale": "Viridis",
          "reversescale": true
         },
         "name": "Feature importance for Random Forests",
         "orientation": "h",
         "type": "bar",
         "uid": "1bd97b82-a73e-4a00-804a-eb9188f2e104",
         "x": [
          0.052668806676198394,
          0.05273126838439793,
          0.052824011115477375,
          0.06932884104876996,
          0.07122333012190003,
          0.09614870357679074,
          0.09838631819118301,
          0.11433711427853824,
          0.11639005338618202,
          0.11977358339729306,
          0.15618796982326918
         ],
         "y": [
          "Date",
          "Subjectivity",
          "Negative",
          "Objectivity",
          "Positive",
          "High",
          "Open",
          "Low",
          "Volume",
          "Close",
          "Neutral"
         ]
        }
       ],
       "layout": {
        "height": 1000,
        "title": "Barplot of Feature importances for Random Forests",
        "width": 1000,
        "yaxis": {
         "showgrid": false,
         "showline": false,
         "showticklabels": true
        }
       }
      },
      "text/html": [
       "<div id=\"9e8b6838-0ccc-4261-b409-c5105ea55712\" style=\"height: 1000px; width: 1000px;\" class=\"plotly-graph-div\"></div><script type=\"text/javascript\">require([\"plotly\"], function(Plotly) { window.PLOTLYENV=window.PLOTLYENV || {};window.PLOTLYENV.BASE_URL=\"https://plot.ly\";Plotly.newPlot(\"9e8b6838-0ccc-4261-b409-c5105ea55712\", [{\"marker\": {\"color\": [0.052668806676198394, 0.05273126838439793, 0.052824011115477375, 0.06932884104876996, 0.07122333012190003, 0.09614870357679074, 0.09838631819118301, 0.11433711427853824, 0.11639005338618202, 0.11977358339729306, 0.15618796982326918], \"colorscale\": \"Viridis\", \"reversescale\": true}, \"name\": \"Feature importance for Random Forests\", \"orientation\": \"h\", \"x\": [0.052668806676198394, 0.05273126838439793, 0.052824011115477375, 0.06932884104876996, 0.07122333012190003, 0.09614870357679074, 0.09838631819118301, 0.11433711427853824, 0.11639005338618202, 0.11977358339729306, 0.15618796982326918], \"y\": [\"Date\", \"Subjectivity\", \"Negative\", \"Objectivity\", \"Positive\", \"High\", \"Open\", \"Low\", \"Volume\", \"Close\", \"Neutral\"], \"type\": \"bar\", \"uid\": \"1bd97b82-a73e-4a00-804a-eb9188f2e104\"}], {\"yaxis\": {\"showgrid\": false, \"showline\": false, \"showticklabels\": true}, \"title\": \"Barplot of Feature importances for Random Forests\", \"width\": 1000, \"height\": 1000}, {\"showLink\": true, \"linkText\": \"Export to plot.ly\"})});</script>"
      ],
      "text/vnd.plotly.v1+html": [
       "<div id=\"9e8b6838-0ccc-4261-b409-c5105ea55712\" style=\"height: 1000px; width: 1000px;\" class=\"plotly-graph-div\"></div><script type=\"text/javascript\">require([\"plotly\"], function(Plotly) { window.PLOTLYENV=window.PLOTLYENV || {};window.PLOTLYENV.BASE_URL=\"https://plot.ly\";Plotly.newPlot(\"9e8b6838-0ccc-4261-b409-c5105ea55712\", [{\"marker\": {\"color\": [0.052668806676198394, 0.05273126838439793, 0.052824011115477375, 0.06932884104876996, 0.07122333012190003, 0.09614870357679074, 0.09838631819118301, 0.11433711427853824, 0.11639005338618202, 0.11977358339729306, 0.15618796982326918], \"colorscale\": \"Viridis\", \"reversescale\": true}, \"name\": \"Feature importance for Random Forests\", \"orientation\": \"h\", \"x\": [0.052668806676198394, 0.05273126838439793, 0.052824011115477375, 0.06932884104876996, 0.07122333012190003, 0.09614870357679074, 0.09838631819118301, 0.11433711427853824, 0.11639005338618202, 0.11977358339729306, 0.15618796982326918], \"y\": [\"Date\", \"Subjectivity\", \"Negative\", \"Objectivity\", \"Positive\", \"High\", \"Open\", \"Low\", \"Volume\", \"Close\", \"Neutral\"], \"type\": \"bar\", \"uid\": \"1bd97b82-a73e-4a00-804a-eb9188f2e104\"}], {\"yaxis\": {\"showgrid\": false, \"showline\": false, \"showticklabels\": true}, \"title\": \"Barplot of Feature importances for Random Forests\", \"width\": 1000, \"height\": 1000}, {\"showLink\": true, \"linkText\": \"Export to plot.ly\"})});</script>"
      ]
     },
     "metadata": {},
     "output_type": "display_data"
    }
   ],
   "source": [
    "x, y = (list(x) for x in zip(*sorted(zip(model_rf.feature_importances_, features), \n",
    "                                                            reverse = False)))\n",
    "trace2 = go.Bar(\n",
    "    x=x ,\n",
    "    y=y,\n",
    "    marker=dict(\n",
    "        color=x,\n",
    "        colorscale = 'Viridis',\n",
    "        reversescale = True\n",
    "    ),\n",
    "    name='Feature importance for Random Forests',\n",
    "    orientation='h',\n",
    ")\n",
    "\n",
    "layout = dict(\n",
    "    title='Barplot of Feature importances for Random Forests',\n",
    "     width = 1000, height = 1000,\n",
    "    yaxis=dict(\n",
    "        showgrid=False,\n",
    "        showline=False,\n",
    "        showticklabels=True,\n",
    "#         domain=[0, 0.85],\n",
    "    ))\n",
    "\n",
    "fig1 = go.Figure(data=[trace2])\n",
    "fig1['layout'].update(layout)\n",
    "py.iplot(fig1, filename='plots')\n"
   ]
  },
  {
   "cell_type": "markdown",
   "metadata": {},
   "source": [
    "## Fine Tuning XGBoost\n",
    "\n",
    "#### As of now the model that seems to be performing the best is the XGBoost model.\n",
    "\n",
    "#### Lets see if we can fine tune it further to increase the accuracy of the model.\n",
    "\n",
    "#### The main parameters which can be used for fine tuning the XGBoost model are the n_estimators and the max_depth parameters.\n",
    "\n",
    "#### n_estimators: XGBoost is an additive model, multiple models are created on different samples of data and the model learns after training of different samples. How many samples are the optimum best for the XGBoost to train from is usually unknown and the best way to find out is to check by training on different set of estimators.\n",
    "\n",
    "#### Lets take a list of n_estimators = [150, 200, 250, 450, 500, 550, 1000]\n",
    "\n",
    "#### max_depth: XGBoost learns in the form of a tree model and the number of depths for that tree needs to be set. This parameter is also not known. So lets try on multiple set of depths.\n",
    "#### max_depth = [1, 2, 3, 4, 5, 6, 7, 8, 9, 10, 11, 12]\n",
    "\n",
    "#### Below , we are training the XGBoost classifier on different combinations of max depth and estimators. This output will print out the  best parameters as well as the highest accuracy achieved using those parameters.\n",
    "\n",
    "#### Below we can see that the accuracy has improved by around ~5%, i. e from 58% to 62% at 550 estimators and max depth of 3."
   ]
  },
  {
   "cell_type": "code",
   "execution_count": 114,
   "metadata": {
    "scrolled": false
   },
   "outputs": [
    {
     "name": "stdout",
     "output_type": "stream",
     "text": [
      "[1, 2, 3, 4, 5, 6, 7, 8, 9, 10]\n",
      "Score is 0.5711892797319933 at depth of 1 and estimator 150\n",
      "Score is 0.5879396984924623 at depth of 2 and estimator 150\n",
      "Score is 0.5879396984924623 at depth of 3 and estimator 150\n",
      "Score is 0.5879396984924623 at depth of 4 and estimator 150\n",
      "Score is 0.5829145728643216 at depth of 5 and estimator 150\n",
      "Score is 0.5879396984924623 at depth of 6 and estimator 150\n",
      "Score is 0.592964824120603 at depth of 7 and estimator 150\n",
      "Score is 0.5829145728643216 at depth of 8 and estimator 150\n",
      "Score is 0.5795644891122278 at depth of 9 and estimator 150\n",
      "Score is 0.5963149078726968 at depth of 10 and estimator 150\n",
      "Score is 0.5778894472361809 at depth of 1 and estimator 200\n",
      "Score is 0.5896147403685092 at depth of 2 and estimator 200\n",
      "Score is 0.5912897822445561 at depth of 3 and estimator 200\n",
      "Score is 0.592964824120603 at depth of 4 and estimator 200\n",
      "Score is 0.5795644891122278 at depth of 5 and estimator 200\n",
      "Score is 0.5896147403685092 at depth of 6 and estimator 200\n",
      "Score is 0.5946398659966499 at depth of 7 and estimator 200\n",
      "Score is 0.5879396984924623 at depth of 8 and estimator 200\n",
      "Score is 0.5695142378559463 at depth of 9 and estimator 200\n",
      "Score is 0.592964824120603 at depth of 10 and estimator 200\n",
      "Score is 0.576214405360134 at depth of 1 and estimator 250\n",
      "Score is 0.5912897822445561 at depth of 2 and estimator 250\n",
      "Score is 0.5963149078726968 at depth of 3 and estimator 250\n",
      "Score is 0.5912897822445561 at depth of 4 and estimator 250\n",
      "Score is 0.5829145728643216 at depth of 5 and estimator 250\n",
      "Score is 0.5862646566164154 at depth of 6 and estimator 250\n",
      "Score is 0.5879396984924623 at depth of 7 and estimator 250\n",
      "Score is 0.5812395309882747 at depth of 8 and estimator 250\n",
      "Score is 0.5561139028475712 at depth of 9 and estimator 250\n",
      "Score is 0.5912897822445561 at depth of 10 and estimator 250\n",
      "Score is 0.576214405360134 at depth of 1 and estimator 300\n",
      "Score is 0.5862646566164154 at depth of 2 and estimator 300\n",
      "Score is 0.5963149078726968 at depth of 3 and estimator 300\n",
      "Score is 0.5896147403685092 at depth of 4 and estimator 300\n",
      "Score is 0.5946398659966499 at depth of 5 and estimator 300\n",
      "Score is 0.5879396984924623 at depth of 6 and estimator 300\n",
      "Score is 0.5896147403685092 at depth of 7 and estimator 300\n",
      "Score is 0.5829145728643216 at depth of 8 and estimator 300\n",
      "Score is 0.5544388609715243 at depth of 9 and estimator 300\n",
      "Score is 0.5879396984924623 at depth of 10 and estimator 300\n",
      "Score is 0.5795644891122278 at depth of 1 and estimator 350\n",
      "Score is 0.5879396984924623 at depth of 2 and estimator 350\n",
      "Score is 0.6013400335008375 at depth of 3 and estimator 350\n",
      "Score is 0.5979899497487438 at depth of 4 and estimator 350\n",
      "Score is 0.6030150753768844 at depth of 5 and estimator 350\n",
      "Score is 0.5879396984924623 at depth of 6 and estimator 350\n",
      "Score is 0.5879396984924623 at depth of 7 and estimator 350\n",
      "Score is 0.5812395309882747 at depth of 8 and estimator 350\n",
      "Score is 0.559463986599665 at depth of 9 and estimator 350\n",
      "Score is 0.5829145728643216 at depth of 10 and estimator 350\n",
      "Score is 0.576214405360134 at depth of 1 and estimator 400\n",
      "Score is 0.5896147403685092 at depth of 2 and estimator 400\n",
      "Score is 0.6030150753768844 at depth of 3 and estimator 400\n",
      "Score is 0.5896147403685092 at depth of 4 and estimator 400\n",
      "Score is 0.5963149078726968 at depth of 5 and estimator 400\n",
      "Score is 0.592964824120603 at depth of 6 and estimator 400\n",
      "Score is 0.5829145728643216 at depth of 7 and estimator 400\n",
      "Score is 0.5845896147403685 at depth of 8 and estimator 400\n",
      "Score is 0.5544388609715243 at depth of 9 and estimator 400\n",
      "Score is 0.5778894472361809 at depth of 10 and estimator 400\n",
      "Score is 0.576214405360134 at depth of 1 and estimator 450\n",
      "Score is 0.5896147403685092 at depth of 2 and estimator 450\n",
      "Score is 0.6030150753768844 at depth of 3 and estimator 450\n",
      "Score is 0.5896147403685092 at depth of 4 and estimator 450\n",
      "Score is 0.592964824120603 at depth of 5 and estimator 450\n",
      "Score is 0.5896147403685092 at depth of 6 and estimator 450\n",
      "Score is 0.5812395309882747 at depth of 7 and estimator 450\n",
      "Score is 0.5829145728643216 at depth of 8 and estimator 450\n",
      "Score is 0.5611390284757118 at depth of 9 and estimator 450\n",
      "Score is 0.5778894472361809 at depth of 10 and estimator 450\n",
      "Score is 0.576214405360134 at depth of 1 and estimator 480\n",
      "Score is 0.5862646566164154 at depth of 2 and estimator 480\n",
      "Score is 0.6063651591289783 at depth of 3 and estimator 480\n",
      "Score is 0.5879396984924623 at depth of 4 and estimator 480\n",
      "Score is 0.592964824120603 at depth of 5 and estimator 480\n",
      "Score is 0.5896147403685092 at depth of 6 and estimator 480\n",
      "Score is 0.5862646566164154 at depth of 7 and estimator 480\n",
      "Score is 0.5829145728643216 at depth of 8 and estimator 480\n",
      "Score is 0.5644891122278057 at depth of 9 and estimator 480\n",
      "Score is 0.5778894472361809 at depth of 10 and estimator 480\n",
      "Score is 0.576214405360134 at depth of 1 and estimator 490\n",
      "Score is 0.5946398659966499 at depth of 2 and estimator 490\n",
      "Score is 0.6046901172529313 at depth of 3 and estimator 490\n",
      "Score is 0.5946398659966499 at depth of 4 and estimator 490\n",
      "Score is 0.5879396984924623 at depth of 5 and estimator 490\n",
      "Score is 0.5912897822445561 at depth of 6 and estimator 490\n",
      "Score is 0.5862646566164154 at depth of 7 and estimator 490\n",
      "Score is 0.5795644891122278 at depth of 8 and estimator 490\n",
      "Score is 0.5628140703517588 at depth of 9 and estimator 490\n",
      "Score is 0.5795644891122278 at depth of 10 and estimator 490\n",
      "Score is 0.5795644891122278 at depth of 1 and estimator 500\n",
      "Score is 0.5946398659966499 at depth of 2 and estimator 500\n",
      "Score is 0.6164154103852596 at depth of 3 and estimator 500\n",
      "Score is 0.592964824120603 at depth of 4 and estimator 500\n",
      "Score is 0.5912897822445561 at depth of 5 and estimator 500\n",
      "Score is 0.5946398659966499 at depth of 6 and estimator 500\n",
      "Score is 0.5845896147403685 at depth of 7 and estimator 500\n",
      "Score is 0.5812395309882747 at depth of 8 and estimator 500\n",
      "Score is 0.5644891122278057 at depth of 9 and estimator 500\n",
      "Score is 0.5812395309882747 at depth of 10 and estimator 500\n",
      "Score is 0.5795644891122278 at depth of 1 and estimator 510\n",
      "Score is 0.5896147403685092 at depth of 2 and estimator 510\n",
      "Score is 0.6147403685092128 at depth of 3 and estimator 510\n",
      "Score is 0.592964824120603 at depth of 4 and estimator 510\n",
      "Score is 0.5896147403685092 at depth of 5 and estimator 510\n",
      "Score is 0.592964824120603 at depth of 6 and estimator 510\n",
      "Score is 0.5862646566164154 at depth of 7 and estimator 510\n",
      "Score is 0.5812395309882747 at depth of 8 and estimator 510\n",
      "Score is 0.5661641541038526 at depth of 9 and estimator 510\n",
      "Score is 0.5795644891122278 at depth of 10 and estimator 510\n",
      "Score is 0.5795644891122278 at depth of 1 and estimator 520\n",
      "Score is 0.5896147403685092 at depth of 2 and estimator 520\n",
      "Score is 0.6180904522613065 at depth of 3 and estimator 520\n",
      "Score is 0.5862646566164154 at depth of 4 and estimator 520\n",
      "Score is 0.5879396984924623 at depth of 5 and estimator 520\n",
      "Score is 0.5912897822445561 at depth of 6 and estimator 520\n",
      "Score is 0.5862646566164154 at depth of 7 and estimator 520\n",
      "Score is 0.5795644891122278 at depth of 8 and estimator 520\n",
      "Score is 0.5628140703517588 at depth of 9 and estimator 520\n",
      "Score is 0.576214405360134 at depth of 10 and estimator 520\n",
      "Score is 0.5795644891122278 at depth of 1 and estimator 550\n",
      "Score is 0.5912897822445561 at depth of 2 and estimator 550\n",
      "Score is 0.6164154103852596 at depth of 3 and estimator 550\n",
      "Score is 0.5979899497487438 at depth of 4 and estimator 550\n",
      "Score is 0.5912897822445561 at depth of 5 and estimator 550\n",
      "Score is 0.5845896147403685 at depth of 6 and estimator 550\n",
      "Score is 0.5845896147403685 at depth of 7 and estimator 550\n",
      "Score is 0.5778894472361809 at depth of 8 and estimator 550\n",
      "Score is 0.5695142378559463 at depth of 9 and estimator 550\n",
      "Score is 0.5778894472361809 at depth of 10 and estimator 550\n",
      "Score is 0.5829145728643216 at depth of 1 and estimator 1000\n",
      "Score is 0.5795644891122278 at depth of 2 and estimator 1000\n",
      "Score is 0.5996649916247906 at depth of 3 and estimator 1000\n",
      "Score is 0.5963149078726968 at depth of 4 and estimator 1000\n",
      "Score is 0.5778894472361809 at depth of 5 and estimator 1000\n",
      "Score is 0.5879396984924623 at depth of 6 and estimator 1000\n",
      "Score is 0.5728643216080402 at depth of 7 and estimator 1000\n",
      "Score is 0.5695142378559463 at depth of 8 and estimator 1000\n",
      "Score is 0.5711892797319933 at depth of 9 and estimator 1000\n",
      "Score is 0.5778894472361809 at depth of 10 and estimator 1000\n",
      "Best score is 0.6180904522613065 at depth of 3 and estimator of 520\n"
     ]
    }
   ],
   "source": [
    "# XGBoost on Stock Price dataset, Tune n_estimators and max_depth\n",
    "from sklearn.model_selection import GridSearchCV\n",
    "from sklearn.model_selection import StratifiedKFold\n",
    "from sklearn.preprocessing import LabelEncoder\n",
    "import matplotlib\n",
    "\n",
    "matplotlib.use('Agg')\n",
    "model = XGBClassifier()\n",
    "n_estimators = [150, 200, 250, 300, 350, 400, 450, 480, 490, 500, 510, 520, 550, 1000]\n",
    "max_depth = [1, 2, 3, 4, 5, 6, 7, 8, 9, 10]\n",
    "print(max_depth)\n",
    "best_depth = 0\n",
    "best_estimator = 0\n",
    "max_score = 0\n",
    "for n in n_estimators:\n",
    "    for md in max_depth:\n",
    "        model = XGBClassifier(n_estimators=n, max_depth=md)\n",
    "        model.fit(X_train, y_train)\n",
    "        y_pred = model.predict(X_test)\n",
    "        score = accuracy_score(y_test, y_pred)\n",
    "        if score > max_score:\n",
    "            max_score = score\n",
    "            best_depth = md\n",
    "            best_estimator = n\n",
    "        print(\"Score is \" + str(score) + \" at depth of \" + str(md) + \" and estimator \" + str(n))\n",
    "print(\"Best score is \" + str(max_score) + \" at depth of \" + str(best_depth) + \" and estimator of \" + str(best_estimator))\n"
   ]
  },
  {
   "cell_type": "markdown",
   "metadata": {},
   "source": [
    "## Fine tuning with important features:\n",
    "\n",
    "#### As explained earlier in the feature importance plot section, lets use the most important features and see if it improves the accuracy of the model.\n",
    "\n",
    "#### After training using the most important features, we do not see much improvement in our model. Hence, lets not use that in further tuning. The model accuracy still remains at 62%"
   ]
  },
  {
   "cell_type": "code",
   "execution_count": 118,
   "metadata": {},
   "outputs": [
    {
     "name": "stdout",
     "output_type": "stream",
     "text": [
      "Score is 0.6164154103852596\n"
     ]
    }
   ],
   "source": [
    "imp_features_df = merge_df[['Low', \"Neutral\", 'Close', 'Objectivity', 'Date']]\n",
    "Xi_train, Xi_test = X.loc[0:train_size, :], X.loc[train_size: len(X.index), :]\n",
    "clf = XGBClassifier(n_estimators=500, max_depth=3)\n",
    "clf.fit(Xi_train, y_train)\n",
    "yi_pred = clf.predict(Xi_test)\n",
    "score = accuracy_score(y_test, yi_pred)\n",
    "print(\"Score is \"+ str(score))\n"
   ]
  },
  {
   "cell_type": "markdown",
   "metadata": {},
   "source": [
    "## PCA transformation:\n",
    "    \n",
    "#### PCA is another technique for dimensionality reduction. We just need to specify the number the components we need our data to be reduced to and PCA does the job for us.\n",
    "\n",
    "#### In the below model, lets reduce the dimension of the data down to 3 and then train it using XGBoost to see if the performance is improved. PCA reduces the dimensions of the data, however it preserves the data from all columns, it only does the job of bringing down all the dimensions to 2-3 dimensions. The main dimension will be the dimension with highest amount of variance, i.e the spread of data."
   ]
  },
  {
   "cell_type": "code",
   "execution_count": 140,
   "metadata": {},
   "outputs": [
    {
     "name": "stdout",
     "output_type": "stream",
     "text": [
      "<class 'numpy.ndarray'>\n"
     ]
    }
   ],
   "source": [
    "from sklearn.decomposition import PCA\n",
    "\n",
    "pca = PCA(n_components=3)\n",
    "pca.fit(X)\n",
    "transformed = pca.transform(X)\n",
    "\n",
    "transformed.shape\n",
    "print(type(transformed))"
   ]
  },
  {
   "cell_type": "markdown",
   "metadata": {},
   "source": [
    "#### After performing PCA, lets now train our model using XGBoost.\n",
    "\n",
    "## We can observe below that our model is now giving an accuracy of 94% after performing PCA"
   ]
  },
  {
   "cell_type": "code",
   "execution_count": 141,
   "metadata": {},
   "outputs": [
    {
     "name": "stdout",
     "output_type": "stream",
     "text": [
      "Score is 0.9413735343383585\n"
     ]
    }
   ],
   "source": [
    "pca_df = pd.DataFrame(transformed)\n",
    "\n",
    "X_train_pca, X_test_pca = pca_df.loc[0:train_size, :], pca_df.loc[train_size: len(X.index), :]\n",
    "\n",
    "clf = XGBClassifier(n_estimators=100, max_depth=10)\n",
    "clf.fit(X_train_pca, y_train)\n",
    "y_pred_pca = clf.predict(X_test_pca)\n",
    "score = accuracy_score(y_test, y_pred_pca)\n",
    "print(\"Score is \"+ str(score))\n"
   ]
  },
  {
   "cell_type": "markdown",
   "metadata": {},
   "source": [
    "#### However, as explained earlier, we cannot totally rely on the accuracy score to be the most acurate test of the model . Lets take a look at the confusion matrix as well as the classification report.\n",
    "\n",
    "#### The confusion matrix looks good as we have a good number of true positives and true negatives.\n",
    "#### The top left corner is the true positive and the bottom right corner of the matrix is the true negatives.\n",
    "#### True Positive: No. of predictions which are positive and are actually positive.\n",
    "#### True Negative: No. of predictions which are negative and are actually negative.\n",
    "#### The bottom left and top right are false positive and false negative. We can see that the number of false positive's and false negative's are quite low. Thus we can say that the predictions performed by the model is very good.\n",
    "\n",
    "#### The precision, recal and f1 score is also very good.\n",
    "## Precision is 0.94\n",
    "## Recall is 0.94\n",
    "## f1-score is 0.94"
   ]
  },
  {
   "cell_type": "code",
   "execution_count": 48,
   "metadata": {},
   "outputs": [
    {
     "name": "stdout",
     "output_type": "stream",
     "text": [
      "Confusion Matrix: \n",
      "[[258  22]\n",
      " [ 13 304]]\n",
      "Classification report: \n",
      "             precision    recall  f1-score   support\n",
      "\n",
      "          0       0.95      0.92      0.94       280\n",
      "          1       0.93      0.96      0.95       317\n",
      "\n",
      "avg / total       0.94      0.94      0.94       597\n",
      "\n"
     ]
    }
   ],
   "source": [
    "pca_matrix = confusion_matrix(y_test, y_pred_pca)\n",
    "pca_report = classification_report(y_test, y_pred_pca)\n",
    "print(\"Confusion Matrix: \\n\" + str(pca_matrix))\n",
    "print(\"Classification report: \\n\" + str(pca_report))\n"
   ]
  },
  {
   "cell_type": "markdown",
   "metadata": {},
   "source": [
    "#### Finally, lets check the Area Under the Curve by plotting the ROC AUC curve.\n",
    "\n",
    "#### After plotting the curve , we can observe that the AUC score is 0.98 having around 98% area under the curve which is amazing.\n",
    "\n",
    "## This suggests that our model is performing good at an accuracy of 94%.\n",
    "## This can further be used to predict the Stock Prices.\n",
    "## We are going to need top 25 headlines. These headlines can be parsed to generate the polarity data and use the stock prices to predict the Stock Prices."
   ]
  },
  {
   "cell_type": "code",
   "execution_count": 151,
   "metadata": {},
   "outputs": [
    {
     "name": "stdout",
     "output_type": "stream",
     "text": [
      "AUC score is 0.9830948625506984\n",
      "roc auc is :0.9830948625506984\n"
     ]
    },
    {
     "data": {
      "image/png": "[encoded data removed]",
      "text/plain": [
       "<Figure size 576x396 with 1 Axes>"
      ]
     },
     "metadata": {},
     "output_type": "display_data"
    }
   ],
   "source": [
    "# Generating the ROC curve\n",
    "y_pred_proba_pca = clf.predict_proba(X_test_pca)[:,1]\n",
    "fpr, tpr, thresholds = roc_curve(y_test, y_pred_proba_pca)\n",
    "roc_auc = auc(fpr, tpr)\n",
    "print(\"AUC score is \" + str(roc_auc))\n",
    "\n",
    "# Plot ROC curve\n",
    "print(\"roc auc is :\" + str(roc_auc))\n",
    "plt.plot([0, 1], [0, 1], 'k--')\n",
    "plt.plot(fpr, tpr)\n",
    "plt.xlabel('False Positive Rate')\n",
    "plt.ylabel('True Positive Rate')\n",
    "plt.title('ROC Curve')\n",
    "plt.show()\n"
   ]
  },
  {
   "cell_type": "code",
   "execution_count": null,
   "metadata": {},
   "outputs": [],
   "source": []
  }
 ],
 "metadata": {
  "kernelspec": {
   "display_name": "Python 3",
   "language": "python",
   "name": "python3"
  },
  "language_info": {
   "codemirror_mode": {
    "name": "ipython",
    "version": 3
   },
   "file_extension": ".py",
   "mimetype": "text/x-python",
   "name": "python",
   "nbconvert_exporter": "python",
   "pygments_lexer": "ipython3",
   "version": "3.6.5"
  }
 },
 "nbformat": 4,
 "nbformat_minor": 2
}
